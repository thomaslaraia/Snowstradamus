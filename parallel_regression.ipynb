{
 "cells": [
  {
   "cell_type": "markdown",
   "id": "ff58facb-bef6-4364-a64e-894d2e7bb77b",
   "metadata": {},
   "source": [
    "# Sodankyla"
   ]
  },
  {
   "cell_type": "markdown",
   "id": "bc0012c7-b645-469a-a61b-6c017824b598",
   "metadata": {},
   "source": [
    "#### Arctan loss, f_scale = .1"
   ]
  },
  {
   "cell_type": "code",
   "execution_count": 7,
   "id": "0eff894b",
   "metadata": {
    "scrolled": true
   },
   "outputs": [
    {
     "data": {
      "text/plain": [
       "['../data_store/data/sodankyla_full/processed_ATL03_20190112214359_02360205_006_02.h5',\n",
       " '../data_store/data/sodankyla_full/processed_ATL03_20190124083414_04110203_006_02.h5',\n",
       " '../data_store/data/sodankyla_full/processed_ATL03_20190327053800_13560203_006_02.h5',\n",
       " '../data_store/data/sodankyla_full/processed_ATL03_20190413172354_02360305_006_02.h5',\n",
       " '../data_store/data/sodankyla_full/processed_ATL03_20190425041400_04110303_006_02.h5',\n",
       " '../data_store/data/sodankyla_full/processed_ATL03_20190614142731_11810305_006_02.h5',\n",
       " '../data_store/data/sodankyla_full/processed_ATL03_20190626011737_13560303_006_02.h5',\n",
       " '../data_store/data/sodankyla_full/processed_ATL03_20191023193336_04110503_006_02.h5',\n",
       " '../data_store/data/sodankyla_full/processed_ATL03_20200111042311_02360605_006_01.h5',\n",
       " '../data_store/data/sodankyla_full/processed_ATL03_20200122151319_04110603_006_01.h5',\n",
       " '../data_store/data/sodankyla_full/processed_ATL03_20200324121701_13560603_006_01.h5',\n",
       " '../data_store/data/sodankyla_full/processed_ATL03_20200411000258_02360705_006_02.h5',\n",
       " '../data_store/data/sodankyla_full/processed_ATL03_20200422105308_04110703_006_02.h5',\n",
       " '../data_store/data/sodankyla_full/processed_ATL03_20200611210642_11810705_006_01.h5',\n",
       " '../data_store/data/sodankyla_full/processed_ATL03_20200623075651_13560703_006_01.h5',\n",
       " '../data_store/data/sodankyla_full/processed_ATL03_20200710194244_02360805_006_01.h5',\n",
       " '../data_store/data/sodankyla_full/processed_ATL03_20200910164631_11810805_006_02.h5',\n",
       " '../data_store/data/sodankyla_full/processed_ATL03_20201021021240_04110903_006_01.h5',\n",
       " '../data_store/data/sodankyla_full/processed_ATL03_20210409064218_02361105_006_02.h5',\n",
       " '../data_store/data/sodankyla_full/processed_ATL03_20210420173227_04111103_006_02.h5',\n",
       " '../data_store/data/sodankyla_full/processed_ATL03_20210610034606_11811105_006_01.h5',\n",
       " '../data_store/data/sodankyla_full/processed_ATL03_20210709022208_02361205_006_01.h5',\n",
       " '../data_store/data/sodankyla_full/processed_ATL03_20210720131217_04111203_006_01.h5',\n",
       " '../data_store/data/sodankyla_full/processed_ATL03_20210908232601_11811205_006_02.h5',\n",
       " '../data_store/data/sodankyla_full/processed_ATL03_20210920101609_13561203_006_02.h5',\n",
       " '../data_store/data/sodankyla_full/processed_ATL03_20211007220207_02361305_006_01.h5',\n",
       " '../data_store/data/sodankyla_full/processed_ATL03_20211220055605_13561303_006_01.h5',\n",
       " '../data_store/data/sodankyla_full/processed_ATL03_20220118043209_04111403_006_01.h5',\n",
       " '../data_store/data/sodankyla_full/processed_ATL03_20220419001154_04111503_006_02.h5',\n",
       " '../data_store/data/sodankyla_full/processed_ATL03_20220608102541_11811505_006_01.h5',\n",
       " '../data_store/data/sodankyla_full/processed_ATL03_20220707090150_02361605_006_02.h5',\n",
       " '../data_store/data/sodankyla_full/processed_ATL03_20220718195157_04111603_006_02.h5',\n",
       " '../data_store/data/sodankyla_full/processed_ATL03_20221017153147_04111703_006_01.h5',\n",
       " '../data_store/data/sodankyla_full/processed_ATL03_20230307212510_11811805_006_02.h5',\n",
       " '../data_store/data/sodankyla_full/processed_ATL03_20230319081525_13561803_006_02.h5',\n",
       " '../data_store/data/sodankyla_full/processed_ATL03_20230405200119_02361905_006_02.h5',\n",
       " '../data_store/data/sodankyla_full/processed_ATL03_20230417065118_04111903_006_02.h5',\n",
       " '../data_store/data/sodankyla_full/processed_ATL03_20230618035439_13561903_006_02.h5',\n",
       " '../data_store/data/sodankyla_full/processed_ATL03_20230705154028_02362005_006_02.h5',\n",
       " '../data_store/data/sodankyla_full/processed_ATL03_20230717023029_04112003_006_02.h5',\n",
       " '../data_store/data/sodankyla_full/processed_ATL03_20230905124352_11812005_006_02.h5',\n",
       " '../data_store/data/sodankyla_full/processed_ATL03_20231004111956_02362105_006_02.h5',\n",
       " '../data_store/data/sodankyla_full/processed_ATL03_20240103065938_02362205_006_01.h5',\n",
       " '../data_store/data/sodankyla_full/processed_ATL03_20240114174936_04112203_006_01.h5',\n",
       " '../data_store/data/sodankyla_full/processed_ATL03_20240316145300_13562203_006_01.h5',\n",
       " '../data_store/data/sodankyla_full/processed_ATL03_20240403023858_02362305_006_01.h5',\n",
       " '../data_store/data/sodankyla_full/processed_ATL03_20240407023039_02972305_006_01.h5',\n",
       " '../data_store/data/sodankyla_full/processed_ATL03_20240414132901_04112303_006_01.h5',\n",
       " '../data_store/data/sodankyla_full/processed_ATL03_20240714090839_04112403_006_01.h5']"
      ]
     },
     "execution_count": 7,
     "metadata": {},
     "output_type": "execute_result"
    }
   ],
   "source": [
    "# from scripts.parallel_blocks import *\n",
    "from scripts.parallel_phoreal import *\n",
    "# pd.set_option('display.max_rows', None)  # Show all rows\n",
    "# pd.set_option('display.max_columns', None)  # Show all columns\n",
    "# pd.set_option('display.width', None)  # Adjust the display width to show all columns\n",
    "# pd.set_option('display.max_colwidth', None)  # Show full content of each column\n",
    "\n",
    "# dirpath = 'R:/data/sodankyla_full/'\n",
    "dirpath = '../data_store/data/sodankyla_full/'\n",
    "\n",
    "# data = []\n",
    "\n",
    "all_ATL03, all_ATL08, failed_ATL03 = track_pairs(dirpath, failed=True)\n",
    "N = len(all_ATL03)\n",
    "\n",
    "all_ATL03\n",
    "\n",
    "# coords = (26.634154, 67.361833)\n",
    "\n",
    "# for i in range(N):\n",
    "#     # print(all_ATL03[i], all_ATL08[i])\n",
    "#     data = pvpg_parallel(all_ATL03[i], all_ATL08[i], coords=coords, width=5,height=5,\\\n",
    "#                          graph_detail=2,file_index=i,altitude=185,threshold=1,alt_thresh=80)\n",
    "    # data = pvpg_parallel(dirpath, all_ATL03[i], all_ATL08[i], coords=coords, width=.01,height=.01,\\\n",
    "    #                      graph_detail=1,file_index=i,altitude=185,threshold=1,small_box=.01,alt_thresh=80)"
   ]
  },
  {
   "cell_type": "markdown",
   "id": "cb3a0298-6d09-40db-a3bb-096749c4ee10",
   "metadata": {},
   "source": [
    "# Delta Junction"
   ]
  },
  {
   "cell_type": "code",
   "execution_count": 6,
   "id": "a31a5712-4f90-4bc1-b837-29343aa4a27e",
   "metadata": {},
   "outputs": [
    {
     "name": "stdout",
     "output_type": "stream",
     "text": [
      "Failed to open ATL03 file for delta_junction file 6's beam 1.\n",
      "Failed to open ATL03 file for delta_junction file 6's beam 2.\n",
      "Failed to open ATL03 file for delta_junction file 6's beam 3.\n",
      "Failed to open ATL03 file for delta_junction file 6's beam 4.\n",
      "           camera        date   longitude   latitude  \\\n",
      "0  delta_junction  12/03/2020 -145.659312  63.849568   \n",
      "1  delta_junction  12/03/2020 -145.659312  63.867586   \n",
      "2  delta_junction  12/03/2020 -145.659312  63.876595   \n",
      "\n",
      "                       meanEgstrong   meanEgweak  \\\n",
      "0              [5.321429, 5.141844]           []   \n",
      "1              [5.428571, 6.321429]  [1.5983607]   \n",
      "2  [5.5177307, 5.013889, 5.1985817]  [1.2834646]   \n",
      "\n",
      "                         meanEvstrong    meanEvweak msw_strong msw_weak  \\\n",
      "0              [1.1642857, 0.8014184]            []     [3, 3]       []   \n",
      "1             [1.5285715, 0.35714287]  [0.33606556]     [3, 3]      [3]   \n",
      "2  [0.78014183, 1.3958334, 1.6666666]   [0.4015748]  [3, 3, 3]      [3]   \n",
      "\n",
      "  night_strong night_weak                         asr_strong      asr_weak  \\\n",
      "0       [1, 1]         []           [0.46688873, 0.46688873]            []   \n",
      "1       [1, 1]        [1]             [0.5069153, 0.5069153]  [0.37531534]   \n",
      "2    [1, 1, 1]        [1]  [0.5273699, 0.5273699, 0.5273699]  [0.38109326]   \n",
      "\n",
      "       EvEg  \n",
      "0  0.187867  \n",
      "1  0.160486  \n",
      "2  0.244284  \n"
     ]
    }
   ],
   "source": [
    "from scripts.parallel_blocks import *\n",
    "\n",
    "# dirpath = 'R:/data/sodankyla_full/'\n",
    "dirpath = '../data_store/data/delta_junction/'\n",
    "\n",
    "# data = []\n",
    "\n",
    "all_ATL03, all_ATL08, failed_ATL03 = track_pairs(dirpath, failed=True)\n",
    "N = len(all_ATL03)\n",
    "\n",
    "coords = (-145.7514, 63.8811)\n",
    "\n",
    "# all_ATL03\n",
    "\n",
    "# problematic: 0, 25, 48, \n",
    "\n",
    "for i in range(6,7):\n",
    "    data = pvpg_parallel(dirpath, all_ATL03[i], all_ATL08[i], coords=coords, width=5,height=5,file_index=i, alt_thresh=80,\\\n",
    "                         altitude=504, threshold=1, small_box=1)\n",
    "    print(data)"
   ]
  },
  {
   "cell_type": "code",
   "execution_count": 9,
   "id": "f266ea9a-66d3-456f-8468-0715d1714b8a",
   "metadata": {},
   "outputs": [
    {
     "name": "stdout",
     "output_type": "stream",
     "text": [
      "[]\n"
     ]
    }
   ],
   "source": [
    "# Define arrays\n",
    "array1 = ['tem', 'pot', 'see']\n",
    "array2 = ['strong', 'weak']\n",
    "\n",
    "# Create a dictionary to hold the pairings\n",
    "pairings = {}\n",
    "\n",
    "# Loop through both arrays to create keys dynamically\n",
    "for a1 in array1:\n",
    "    for a2 in array2:\n",
    "        key = f\"{a1}_{a2}\"\n",
    "        pairings[key] = []\n",
    "\n",
    "# Accessing one of the dynamically created pairings\n",
    "print(pairings['tem_strong'])  # This will print the empty list assigned to 'tem_strong'\n"
   ]
  },
  {
   "cell_type": "markdown",
   "id": "4571fe59-089c-4c06-80df-bcff31829a81",
   "metadata": {},
   "source": [
    "# Marcell MN"
   ]
  },
  {
   "cell_type": "code",
   "execution_count": 3,
   "id": "6489d063-f564-4ed7-8fb6-c6aa151174dd",
   "metadata": {},
   "outputs": [
    {
     "name": "stdout",
     "output_type": "stream",
     "text": [
      "Failed to open ATL03 file for marcell_MN file 1's beam 1.\n",
      "Failed to open ATL03 file for marcell_MN file 1's beam 2.\n",
      "camera                                                             marcell_MN\n",
      "date                                                               26/03/2019\n",
      "longitude                                                          -93.434096\n",
      "latitude                                                            47.491386\n",
      "meanEgstrong                              [0.89928055, 0.7714286, 0.51449275]\n",
      "meanEgweak                  [0.23529412, 0.11278196, 0.42446044, 0.4411764...\n",
      "meanEvstrong                            [0.17266187, 0.092857145, 0.22463769]\n",
      "meanEvweak                  [0.080882356, 0.12781955, 0.043165468, 0.08088...\n",
      "trad_cc_strong              [0.17218543046357615, 0.12903225806451613, 0.3...\n",
      "trad_cc_weak                [0.30434782608695654, 0.5588235294117647, 0.13...\n",
      "EvEg                                                                 0.224307\n",
      "msw_flag_strong                                                     [1, 1, 1]\n",
      "msw_flag_weak                                        [1, 1, 1, 1, 1, 1, 1, 1]\n",
      "night_flag_strong                                                   [0, 0, 0]\n",
      "night_flag_weak                                      [0, 0, 0, 0, 0, 0, 0, 0]\n",
      "asr_strong                               [0.06628782, 0.06628782, 0.03291069]\n",
      "asr_weak                    [0.040081378, 0.046353545, 0.046353545, 0.0463...\n",
      "canopy_openness_strong                       [1.0853348, 1.407787, 0.8807305]\n",
      "canopy_openness_weak        [1.5080929, 0.8170997, 1.3985997, 1.4481015, 1...\n",
      "snr_strong                               [0.30267385, 0.30267385, 0.30267385]\n",
      "snr_weak                    [0.16247725, 0.16247725, 0.16247725, 0.1624772...\n",
      "segment_cover_strong                                             [83, 91, 80]\n",
      "segment_cover_weak                         [85, 82, 71, 37, 50, 100, 100, 91]\n",
      "segment_landcover_strong                                      [114, 114, 114]\n",
      "segment_landcover_weak                [114, 114, 126, 40, 126, 114, 114, 114]\n",
      "dem_h_strong                                 [392.90753, 394.92523, 393.1536]\n",
      "dem_h_weak                  [393.67584, 393.2802, 394.17322, 394.21793, 39...\n",
      "h_te_best_fit_strong                            [392.9938, 392.8552, 389.469]\n",
      "h_te_best_fit_weak          [389.90973, 391.06683, 391.34985, 391.77417, 3...\n",
      "h_te_interp_strong                           [392.9105, 392.87234, 389.22272]\n",
      "h_te_interp_weak            [389.96085, 390.87897, 391.19223, 391.7059, 39...\n",
      "h_te_std_strong                           [0.36991668, 0.33977115, 1.3463228]\n",
      "h_te_std_weak               [0.43868962, 0.20958501, 0.26687294, 0.1790621...\n",
      "terrain_slope_strong                                           [0.0064013684]\n",
      "terrain_slope_weak          [0.008543351, 0.0052815652, 0.00762543, 0.0066...\n",
      "Name: 6, dtype: object\n"
     ]
    }
   ],
   "source": [
    "from scripts.parallel_blocks import *\n",
    "\n",
    "# dirpath = 'R:/data/sodankyla_full/'\n",
    "dirpath = '../data_store/data/marcell_MN/'\n",
    "\n",
    "# data = []\n",
    "\n",
    "all_ATL03, all_ATL08, failed_ATL03 = track_pairs(dirpath, failed=True)\n",
    "N = len(all_ATL03)\n",
    "\n",
    "coords = (-93.4541, 47.5049)\n",
    "\n",
    "# all_ATL03\n",
    "\n",
    "for i in range(1,2):\n",
    "    data = pvpg_parallel(dirpath, all_ATL03[i], all_ATL08[i], coords=coords, width=5,height=5,file_index=i, alt_thresh=80,\\\n",
    "                         altitude=413, threshold=1, small_box=1)\n",
    "    print(data.iloc[6])"
   ]
  },
  {
   "cell_type": "markdown",
   "id": "d2e323a3-2981-4f38-b91e-294f825a766a",
   "metadata": {},
   "source": [
    "# Lacclair"
   ]
  },
  {
   "cell_type": "code",
   "execution_count": 5,
   "id": "f3e7f775-94ac-46ac-b39a-e001d3ced839",
   "metadata": {},
   "outputs": [
    {
     "data": {
      "text/plain": [
       "['../data_store/data/lacclair/processed_ATL03_20190506102318_05830302_006_02.h5',\n",
       " '../data_store/data/lacclair/processed_ATL03_20190713192557_02400406_006_02.h5',\n",
       " '../data_store/data/lacclair/processed_ATL03_20190811180209_06820406_006_02.h5',\n",
       " '../data_store/data/lacclair/processed_ATL03_20190903043904_10250402_006_02.h5',\n",
       " '../data_store/data/lacclair/processed_ATL03_20191203001854_10250502_006_01.h5',\n",
       " '../data_store/data/lacclair/processed_ATL03_20200202212238_05830602_006_01.h5',\n",
       " '../data_store/data/lacclair/processed_ATL03_20200411062533_02400706_006_02.h5',\n",
       " '../data_store/data/lacclair/processed_ATL03_20200601153829_10250702_006_01.h5',\n",
       " '../data_store/data/lacclair/processed_ATL03_20200711020519_02400806_006_01.h5',\n",
       " '../data_store/data/lacclair/processed_ATL03_20200802124213_05830802_006_01.h5',\n",
       " '../data_store/data/lacclair/processed_ATL03_20210131040156_05831002_006_01.h5',\n",
       " '../data_store/data/lacclair/processed_ATL03_20210206160107_06821006_006_01.h5',\n",
       " '../data_store/data/lacclair/processed_ATL03_20210409130453_02401106_006_02.h5',\n",
       " '../data_store/data/lacclair/processed_ATL03_20210731192138_05831202_006_01.h5',\n",
       " '../data_store/data/lacclair/processed_ATL03_20220529045726_10251502_006_01.h5',\n",
       " '../data_store/data/lacclair/processed_ATL03_20220707152425_02401606_006_02.h5',\n",
       " '../data_store/data/lacclair/processed_ATL03_20220828003726_10251602_006_01.h5',\n",
       " '../data_store/data/lacclair/processed_ATL03_20221006110407_02401706_006_01.h5',\n",
       " '../data_store/data/lacclair/processed_ATL03_20221028214101_05831702_006_01.h5',\n",
       " '../data_store/data/lacclair/processed_ATL03_20230127172052_05831802_006_02.h5',\n",
       " '../data_store/data/lacclair/processed_ATL03_20230705220302_02402006_006_02.h5',\n",
       " '../data_store/data/lacclair/processed_ATL03_20231004174232_02402106_006_02.h5',\n",
       " '../data_store/data/lacclair/processed_ATL03_20240403090132_02402306_006_01.h5',\n",
       " '../data_store/data/lacclair/processed_ATL03_20240703044119_02402406_006_01.h5']"
      ]
     },
     "execution_count": 5,
     "metadata": {},
     "output_type": "execute_result"
    }
   ],
   "source": [
    "from scripts.parallel_phoreal import *\n",
    "\n",
    "# dirpath = 'R:/data/sodankyla_full/'\n",
    "dirpath = '../data_store/data/lacclair/'\n",
    "\n",
    "# data = []\n",
    "\n",
    "all_ATL03, all_ATL08, failed_ATL03 = track_pairs(dirpath, failed=True)\n",
    "N = len(all_ATL03)\n",
    "\n",
    "coords = (-71.6696, 46.9521)\n",
    "\n",
    "all_ATL03\n",
    "\n",
    "# for i in range(N):\n",
    "#     data = pvpg_parallel(all_ATL03[i], all_ATL08[i], coords=coords, width=.1,height=.1,\\\n",
    "#                          graph_detail=1, loss='arctan',file_index=i, keep_flagged=1, opsys='bad',f_scale=.1, altitude = 313)\n",
    "    # data = pvpg_parallel(all_ATL03[i], all_ATL08[i], coords=coords, width=.1,height=.1,\\\n",
    "    #                      graph_detail=1, loss='linear',file_index=i, keep_flagged=1, opsys='bad',f_scale=.05, altitude = 313)\n",
    "    # data = pvpg_parallel(all_ATL03[i], all_ATL08[i], coords=coords, width=.1,height=.1,\\\n",
    "    #                      graph_detail=1, loss='arctan',file_index=i, keep_flagged=1, opsys='bad',f_scale=.01, altitude = 313)\n",
    "#     print(data)"
   ]
  },
  {
   "cell_type": "markdown",
   "id": "8068f02f-b28c-4fcd-a4eb-e7f72d6befd2",
   "metadata": {},
   "source": [
    "# Torgnon"
   ]
  },
  {
   "cell_type": "code",
   "execution_count": 6,
   "id": "46f51545-a76a-4785-9781-8581fd37e304",
   "metadata": {},
   "outputs": [
    {
     "data": {
      "text/plain": [
       "['../data_store/data/torgnon/processed_ATL03_20181130005516_09530106_006_02.h5',\n",
       " '../data_store/data/torgnon/processed_ATL03_20190222083607_08540202_006_02.h5',\n",
       " '../data_store/data/torgnon/processed_ATL03_20190228203518_09530206_006_02.h5',\n",
       " '../data_store/data/torgnon/processed_ATL03_20190524041544_08540302_006_02.h5',\n",
       " '../data_store/data/torgnon/processed_ATL03_20190530161453_09530306_006_02.h5',\n",
       " '../data_store/data/torgnon/processed_ATL03_20190927103049_00080506_006_02.h5',\n",
       " '../data_store/data/torgnon/processed_ATL03_20200220151508_08540602_006_01.h5',\n",
       " '../data_store/data/torgnon/processed_ATL03_20200227031417_09530606_006_01.h5',\n",
       " '../data_store/data/torgnon/processed_ATL03_20200521105458_08540702_006_01.h5',\n",
       " '../data_store/data/torgnon/processed_ATL03_20200820063443_08540802_006_01.h5',\n",
       " '../data_store/data/torgnon/processed_ATL03_20200826183353_09530806_006_01.h5',\n",
       " '../data_store/data/torgnon/processed_ATL03_20201119021432_08540902_006_01.h5',\n",
       " '../data_store/data/torgnon/processed_ATL03_20201125141344_09530906_006_01.h5',\n",
       " '../data_store/data/torgnon/processed_ATL03_20210217215426_08541002_006_01.h5',\n",
       " '../data_store/data/torgnon/processed_ATL03_20210526053327_09531106_006_01.h5',\n",
       " '../data_store/data/torgnon/processed_ATL03_20210818131411_08541202_006_01.h5',\n",
       " '../data_store/data/torgnon/processed_ATL03_20210825011322_09531206_006_01.h5',\n",
       " '../data_store/data/torgnon/processed_ATL03_20220216043357_08541402_006_01.h5',\n",
       " '../data_store/data/torgnon/processed_ATL03_20220222163310_09531406_006_01.h5',\n",
       " '../data_store/data/torgnon/processed_ATL03_20220524121258_09531506_006_01.h5',\n",
       " '../data_store/data/torgnon/processed_ATL03_20220816195349_08541602_006_01.h5',\n",
       " '../data_store/data/torgnon/processed_ATL03_20220823075302_09531606_006_01.h5',\n",
       " '../data_store/data/torgnon/processed_ATL03_20230214111321_08541802_006_02.h5',\n",
       " '../data_store/data/torgnon/processed_ATL03_20230220231229_09531806_006_02.h5',\n",
       " '../data_store/data/torgnon/processed_ATL03_20230516065258_08541902_006_02.h5',\n",
       " '../data_store/data/torgnon/processed_ATL03_20230522185209_09531906_006_02.h5',\n",
       " '../data_store/data/torgnon/processed_ATL03_20230815023212_08542002_006_02.h5',\n",
       " '../data_store/data/torgnon/processed_ATL03_20230821143116_09532006_006_02.h5',\n",
       " '../data_store/data/torgnon/processed_ATL03_20231113221151_08542102_006_02.h5',\n",
       " '../data_store/data/torgnon/processed_ATL03_20231120101107_09532106_006_02.h5',\n",
       " '../data_store/data/torgnon/processed_ATL03_20240212175116_08542202_006_01.h5',\n",
       " '../data_store/data/torgnon/processed_ATL03_20240219055026_09532206_006_01.h5']"
      ]
     },
     "execution_count": 6,
     "metadata": {},
     "output_type": "execute_result"
    }
   ],
   "source": [
    "from scripts.parallel_phoreal import *\n",
    "\n",
    "# dirpath = 'R:/data/sodankyla_full/'\n",
    "dirpath = '../data_store/data/torgnon/'\n",
    "\n",
    "# data = []\n",
    "\n",
    "all_ATL03, all_ATL08, failed_ATL03 = track_pairs(dirpath, failed=True)\n",
    "N = len(all_ATL03)\n",
    "\n",
    "coords = (7.5609, 45.8238)\n",
    "\n",
    "all_ATL03\n",
    "\n",
    "# for i in range(N):\n",
    "    # data = pvpg_parallel(all_ATL03[i], all_ATL08[i], coords=coords, width=.1,height=.1,\\\n",
    "    #                      graph_detail=1, loss='arctan',file_index=i, keep_flagged=1, opsys='bad',f_scale=.1, altitude = 2091)\n",
    "    # data = pvpg_parallel(all_ATL03[i], all_ATL08[i], coords=coords, width=.1,height=.1,\\\n",
    "    #                      graph_detail=1, loss='linear',file_index=i, keep_flagged=1, opsys='bad',f_scale=.05, altitude = 2091)\n",
    "#     print(data)"
   ]
  },
  {
   "cell_type": "markdown",
   "id": "f9967a76-8b11-42b1-a387-c8d8d07ccad1",
   "metadata": {},
   "source": [
    "# Oregon Young Pine"
   ]
  },
  {
   "cell_type": "code",
   "execution_count": 8,
   "id": "9909c6ed-95da-4260-973c-df6f3661f7ae",
   "metadata": {},
   "outputs": [
    {
     "data": {
      "text/plain": [
       "['../data_store/data/oregon_yp/processed_ATL03_20190125065018_04250206_006_02.h5',\n",
       " '../data_store/data/oregon_yp/processed_ATL03_20190620113430_12710302_006_02.h5',\n",
       " '../data_store/data/oregon_yp/processed_ATL03_20190725220939_04250406_006_02.h5',\n",
       " '../data_store/data/oregon_yp/processed_ATL03_20190823204548_08670406_006_02.h5',\n",
       " '../data_store/data/oregon_yp/processed_ATL03_20190919071421_12710402_006_02.h5',\n",
       " '../data_store/data/oregon_yp/processed_ATL03_20191024174938_04250506_006_02.h5',\n",
       " '../data_store/data/oregon_yp/processed_ATL03_20200123132922_04250606_006_01.h5',\n",
       " '../data_store/data/oregon_yp/processed_ATL03_20200218235753_08290602_006_01.h5',\n",
       " '../data_store/data/oregon_yp/processed_ATL03_20200423090912_04250706_006_02.h5',\n",
       " '../data_store/data/oregon_yp/processed_ATL03_20200617181343_12710702_006_01.h5',\n",
       " '../data_store/data/oregon_yp/processed_ATL03_20200723044857_04250806_006_01.h5',\n",
       " '../data_store/data/oregon_yp/processed_ATL03_20201022002843_04250906_006_01.h5',\n",
       " '../data_store/data/oregon_yp/processed_ATL03_20210216063711_08291002_006_01.h5',\n",
       " '../data_store/data/oregon_yp/processed_ATL03_20210421154829_04251106_006_02.h5',\n",
       " '../data_store/data/oregon_yp/processed_ATL03_20210616005305_12711102_006_01.h5',\n",
       " '../data_store/data/oregon_yp/processed_ATL03_20210721112820_04251206_006_01.h5',\n",
       " '../data_store/data/oregon_yp/processed_ATL03_20210914203301_12711202_006_02.h5',\n",
       " '../data_store/data/oregon_yp/processed_ATL03_20211115173655_08291302_006_01.h5',\n",
       " '../data_store/data/oregon_yp/processed_ATL03_20220119024812_04251406_006_01.h5',\n",
       " '../data_store/data/oregon_yp/processed_ATL03_20220419222759_04251506_006_02.h5',\n",
       " '../data_store/data/oregon_yp/processed_ATL03_20220614073240_12711502_006_01.h5',\n",
       " '../data_store/data/oregon_yp/processed_ATL03_20220719180800_04251606_006_02.h5',\n",
       " '../data_store/data/oregon_yp/processed_ATL03_20220913031238_12711602_006_01.h5',\n",
       " '../data_store/data/oregon_yp/processed_ATL03_20230117092727_04251806_006_02.h5',\n",
       " '../data_store/data/oregon_yp/processed_ATL03_20230418050714_04251906_006_02.h5',\n",
       " '../data_store/data/oregon_yp/processed_ATL03_20230612141131_12711902_006_02.h5',\n",
       " '../data_store/data/oregon_yp/processed_ATL03_20230718004632_04252006_006_02.h5',\n",
       " '../data_store/data/oregon_yp/processed_ATL03_20240311010958_12712202_006_01.h5',\n",
       " '../data_store/data/oregon_yp/processed_ATL03_20240415114504_04252306_006_01.h5',\n",
       " '../data_store/data/oregon_yp/processed_ATL03_20240715072439_04252406_006_01.h5']"
      ]
     },
     "execution_count": 8,
     "metadata": {},
     "output_type": "execute_result"
    }
   ],
   "source": [
    "from scripts.parallel_phoreal import *\n",
    "\n",
    "# dirpath = 'R:/data/sodankyla_full/'\n",
    "dirpath = '../data_store/data/oregon_yp/'\n",
    "\n",
    "# data = []\n",
    "\n",
    "all_ATL03, all_ATL08, failed_ATL03 = track_pairs(dirpath, failed=True)\n",
    "N = len(all_ATL03)\n",
    "\n",
    "coords = (-121.606, 44.3238)\n",
    "\n",
    "all_ATL03\n",
    "\n",
    "# for i in range(N):\n",
    "    # data = pvpg_parallel(all_ATL03[i], all_ATL08[i], coords=coords, width=.1,height=.1,\\\n",
    "    #                      graph_detail=1, loss='arctan',file_index=i, keep_flagged=1, opsys='bad',f_scale=.1, altitude = 977)\n",
    "    # data = pvpg_parallel(all_ATL03[i], all_ATL08[i], coords=coords, width=.1,height=.1,\\\n",
    "    #                      graph_detail=1, loss='linear',file_index=i, keep_flagged=1, opsys='bad',f_scale=.05, altitude = 977)\n",
    "#     print(data)"
   ]
  }
 ],
 "metadata": {
  "kernelspec": {
   "display_name": "Python 3 (ipykernel)",
   "language": "python",
   "name": "python3"
  },
  "language_info": {
   "codemirror_mode": {
    "name": "ipython",
    "version": 3
   },
   "file_extension": ".py",
   "mimetype": "text/x-python",
   "name": "python",
   "nbconvert_exporter": "python",
   "pygments_lexer": "ipython3",
   "version": "3.11.8"
  }
 },
 "nbformat": 4,
 "nbformat_minor": 5
}
