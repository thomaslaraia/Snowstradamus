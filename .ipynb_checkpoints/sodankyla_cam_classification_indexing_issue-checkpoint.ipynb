{
 "cells": [
  {
   "cell_type": "code",
   "execution_count": 1,
   "id": "3e3099ae-ba23-4e8c-b5b5-8041c6aeb001",
   "metadata": {
    "scrolled": false
   },
   "outputs": [
    {
     "name": "stdout",
     "output_type": "stream",
     "text": [
      "File 0 has been skipped because some segments contain zero photon returns.\n",
      "File 1 has been skipped because some segments contain zero photon returns.\n",
      "File 2 has been skipped because some segments contain zero photon returns.\n"
     ]
    }
   ],
   "source": [
    "from scripts.imports import os, glob, pdb, np, h5py, pd, xr, gpd, Proj, Transformer, CRS, \\\n",
    "                        plt, cmap, cmap2, Model, Data, ODR, datetime, rasterio, show, \\\n",
    "                        ccrs, cfeature\n",
    "from scripts.classes_fixed import *\n",
    "from scripts.pvpg_concise import *\n",
    "from scripts.track_pairs import *\n",
    "from scripts.show_tracks import *\n",
    "from scripts.parallel import pvpg_parallel\n",
    "\n",
    "%matplotlib ipympl\n",
    "\n",
    "dirpath = '../data/sodankyla_cam_full/'\n",
    "all_ATL03, all_ATL08 = track_pairs(dirpath)\n",
    "N = len(all_ATL03)\n",
    "\n",
    "# for j in [8, 12, 14, 16, 17, 18, 20, 23, 30, 31]:\n",
    "for j in [0,1,2]:\n",
    "    coefs, means = pvpg_parallel(all_ATL03[j],all_ATL08[j],\n",
    "                  f_scale = 0.1, # Default is 0.1\n",
    "                  loss = 'arctan', # Default is 'arctan'\n",
    "                  init = -1, # Default is 1\n",
    "                  lb = -100, # Default is -100\n",
    "                  ub = -1/100, # Default is -1/100\n",
    "                  file_index = j, # Default is None\n",
    "                  # model = model, # see script\n",
    "                  # res = res, # see script\n",
    "                  # odr = odr, # see script\n",
    "                  zeros = None, # Default is None, activate to include outliers\n",
    "                  beam = None, #Default is None, activate a la e.g. [3,4] to show info for only beams 3 and 4\n",
    "                  y_init = np.max, # Default is np.max, used to choose initial guess for y_intercept\n",
    "                  graph_detail = 2, # Default is 0, change to 1 to see pv/pg plot, change to 2 to also see all the groundtracks, 3 to only\n",
    "                                    # see the groundtracks\n",
    "                  canopy_frac = True, # Default is None, activate to show fraction of segments that contain any canopy photons\n",
    "                  terrain_frac = True) # Default is None, activate to show fraction of segments that contain any ground photons\n",
    "    # print(means)"
   ]
  }
 ],
 "metadata": {
  "kernelspec": {
   "display_name": "Python 3 (ipykernel)",
   "language": "python",
   "name": "python3"
  },
  "language_info": {
   "codemirror_mode": {
    "name": "ipython",
    "version": 3
   },
   "file_extension": ".py",
   "mimetype": "text/x-python",
   "name": "python",
   "nbconvert_exporter": "python",
   "pygments_lexer": "ipython3",
   "version": "3.11.5"
  }
 },
 "nbformat": 4,
 "nbformat_minor": 5
}
