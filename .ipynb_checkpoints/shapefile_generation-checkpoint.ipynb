{
 "cells": [
  {
   "cell_type": "code",
   "execution_count": 33,
   "id": "72bb7b31-7d70-4c5a-b1f6-d5dc15a8ac2b",
   "metadata": {},
   "outputs": [
    {
     "data": {
      "text/plain": [
       "1.7453292519943295"
      ]
     },
     "execution_count": 33,
     "metadata": {},
     "output_type": "execute_result"
    }
   ],
   "source": [
    "import numpy as np\n",
    "\n",
    "np.radians(100)"
   ]
  },
  {
   "cell_type": "code",
   "execution_count": 1,
   "id": "eb3473e0-a5f3-4ff6-8795-6a3864a0722e",
   "metadata": {},
   "outputs": [],
   "source": [
    "import os\n",
    "import geopandas as gpd\n",
    "from shapely.geometry import Point, box as shapely_box\n",
    "import simplekml\n",
    "import numpy as np\n",
    "\n",
    "def make_shapefile(string, coords, width=0.25, height=0.25):\n",
    "    \n",
    "    # Create a folder named 'shapefiles'\n",
    "    output_folders = ['../data_store/data/shapefiles','./shapefiles']\n",
    "\n",
    "    # Create a GeoDataFrame with a point for Sodankylä and set the CRS explicitly\n",
    "    point = gpd.GeoDataFrame(geometry=[Point(coords)], crs=\"EPSG:4326\")\n",
    "\n",
    "    # Create a square (box) with a given width and height\n",
    "    bounding_box = shapely_box(point.geometry.x[0] - width/np.cos(np.radians(coords[1])), point.geometry.y[0] - height,\n",
    "                               point.geometry.x[0] + width/np.cos(np.radians(coords[1])), point.geometry.y[0] + height)\n",
    "\n",
    "    # Convert the box to a GeoDataFrame\n",
    "    box_gdf = gpd.GeoDataFrame(geometry=[bounding_box], crs=\"EPSG:4326\")\n",
    "\n",
    "    # Create a KML object\n",
    "    kml = simplekml.Kml()\n",
    "\n",
    "    # Create a polygon from the box geometry\n",
    "    polygon_coords = [(x, y) for x, y in box_gdf.geometry.apply(lambda geom: list(geom.exterior.coords))[0]]\n",
    "    polygon = kml.newpolygon(name=f\"Box around {string}\", outerboundaryis=polygon_coords)\n",
    "\n",
    "    for output_folder in output_folders:\n",
    "    \n",
    "        # Save the KML file in the output folder\n",
    "        os.makedirs(output_folder, exist_ok=True)\n",
    "        kml_filename = os.path.join(output_folder, f\"{string}.kml\")\n",
    "        kml.save(kml_filename)\n",
    "    \n",
    "        print(f\"KML file '{kml_filename}' created.\")\n",
    "    return\n"
   ]
  },
  {
   "cell_type": "code",
   "execution_count": 37,
   "id": "2044de69",
   "metadata": {},
   "outputs": [],
   "source": [
    "# import geopandas as gpd\n",
    "# from shapely.geometry import Point, box as shapely_box\n",
    "# import simplekml\n",
    "# import os\n",
    "\n",
    "\n",
    "# def make_shapefile(string, coords, width=25000, height=25000):\n",
    "    \n",
    "#     # Create a folder named 'shapefiles'\n",
    "#     output_folders = ['../data_store/data/shapefiles','./shapefiles']\n",
    "#     # output_folder = './shapefiles'\n",
    "\n",
    "#     # Create a GeoDataFrame with a point for Sodankylä and set the CRS explicitly\n",
    "#     point = gpd.GeoDataFrame(geometry=[Point(coords)], crs=\"EPSG:4326\")\n",
    "\n",
    "#     # Reproject to a projected CRS (e.g., UTM)\n",
    "#     point_utm = point.to_crs(epsg=32635)  # You may need to choose an appropriate EPSG code\n",
    "\n",
    "#     # Create a square (box) with a given width and height\n",
    "#     bounding_box = shapely_box(point_utm.geometry.x[0] - width, point_utm.geometry.y[0] - height,\n",
    "#                                point_utm.geometry.x[0] + width, point_utm.geometry.y[0] + height)\n",
    "\n",
    "#     # Convert the box to a GeoDataFrame\n",
    "#     box_gdf = gpd.GeoDataFrame(geometry=[bounding_box], crs=point_utm.crs)\n",
    "\n",
    "#     # Reproject back to the original CRS\n",
    "#     box = box_gdf.to_crs(epsg=4326)\n",
    "\n",
    "#     # Create a subfolder for each string\n",
    "#     # string_folder = os.path.join(output_folder, f\"{string}\")\n",
    "#     # os.makedirs(string_folder, exist_ok=True)\n",
    "\n",
    "#     # Create a KML object\n",
    "#     kml = simplekml.Kml()\n",
    "\n",
    "#     # Create a polygon from the box geometry\n",
    "#     polygon_coords = [(x, y) for x, y in box.geometry.apply(lambda geom: list(geom.exterior.coords))[0]]\n",
    "#     polygon = kml.newpolygon(name=f\"Box around {string}\", outerboundaryis=polygon_coords)\n",
    "\n",
    "#     for output_folder in output_folders:\n",
    "#         os.makedirs(output_folder, exist_ok=True)\n",
    "#         # Save the KML file in the subfolder\n",
    "#         kml_filename = os.path.join(output_folder, f\"{string}.kml\")\n",
    "#         kml.save(kml_filename)\n",
    "\n",
    "#         print(f\"KML file '{kml_filename}' created.\")\n",
    "#     return"
   ]
  },
  {
   "cell_type": "code",
   "execution_count": 7,
   "id": "a89fad91-9582-4ce5-98a9-1cbf5268baf2",
   "metadata": {},
   "outputs": [
    {
     "name": "stdout",
     "output_type": "stream",
     "text": [
      "KML file '../data_store/data/shapefiles/oregon_2.kml' created.\n",
      "KML file './shapefiles/oregon_2.kml' created.\n"
     ]
    }
   ],
   "source": [
    "import numpy as np\n",
    "\n",
    "make_shapefile(string = \"oregon_2\",\n",
    "               coords = (-121.606, 44.3238),\n",
    "               width = 0.02,\n",
    "               height = 0.02)"
   ]
  }
 ],
 "metadata": {
  "kernelspec": {
   "display_name": "Python 3 (ipykernel)",
   "language": "python",
   "name": "python3"
  },
  "language_info": {
   "codemirror_mode": {
    "name": "ipython",
    "version": 3
   },
   "file_extension": ".py",
   "mimetype": "text/x-python",
   "name": "python",
   "nbconvert_exporter": "python",
   "pygments_lexer": "ipython3",
   "version": "3.11.8"
  }
 },
 "nbformat": 4,
 "nbformat_minor": 5
}
