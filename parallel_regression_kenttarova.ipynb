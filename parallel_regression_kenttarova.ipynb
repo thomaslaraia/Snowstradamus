{
 "cells": [
  {
   "cell_type": "markdown",
   "id": "ff58facb-bef6-4364-a64e-894d2e7bb77b",
   "metadata": {},
   "source": [
    "# Parallel regression"
   ]
  },
  {
   "cell_type": "code",
   "execution_count": 1,
   "id": "167f9c16-86c8-4482-bd99-95c0cdc79a13",
   "metadata": {},
   "outputs": [
    {
     "name": "stdout",
     "output_type": "stream",
     "text": [
      "Beam 4 in file 17 has been skipped because of no data.\n"
     ]
    }
   ],
   "source": [
    "## %%time\n",
    "\n",
    "from scripts.parallel import do_parallel\n",
    "\n",
    "%matplotlib ipympl\n",
    "\n",
    "dirpath = '../data/kenttarova_cam/'\n",
    "\n",
    "data = do_parallel(dirpath, keep_flagged=True)"
   ]
  }
 ],
 "metadata": {
  "kernelspec": {
   "display_name": "Python 3 (ipykernel)",
   "language": "python",
   "name": "python3"
  },
  "language_info": {
   "codemirror_mode": {
    "name": "ipython",
    "version": 3
   },
   "file_extension": ".py",
   "mimetype": "text/x-python",
   "name": "python",
   "nbconvert_exporter": "python",
   "pygments_lexer": "ipython3",
   "version": "3.11.8"
  }
 },
 "nbformat": 4,
 "nbformat_minor": 5
}
