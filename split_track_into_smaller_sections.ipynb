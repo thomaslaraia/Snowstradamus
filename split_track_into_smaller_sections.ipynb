{
 "cells": [
  {
   "cell_type": "markdown",
   "id": "14734b05-6db4-4afd-9230-73cc4057a4d8",
   "metadata": {},
   "source": [
    "# Split Track into Smaller Sections"
   ]
  },
  {
   "cell_type": "code",
   "execution_count": 1,
   "id": "274bad66-ad66-47e1-8c05-c9cfa33ad795",
   "metadata": {},
   "outputs": [],
   "source": [
    "from scripts.imports import os, glob, pdb, np, h5py, pd, xr, gpd, Proj, Transformer, CRS, \\\n",
    "                        plt, cmap, cmap2, Model, Data, ODR, datetime, rasterio, show, \\\n",
    "                        ccrs, cfeature\n",
    "import seaborn as sns\n",
    "from scripts.classes_fixed import *\n",
    "from scripts.track_pairs import *\n",
    "from scripts.show_tracks import *\n",
    "from scripts.parallel import pvpg_parallel\n",
    "\n",
    "# Function to compute mean without the warning\n",
    "def safe_nanmean(slice):\n",
    "    if len(slice) == 0 or np.isnan(slice).all():\n",
    "        return np.nan\n",
    "    else:\n",
    "        return np.nanmean(slice)\n",
    "\n",
    "# %matplotlib ipympl\n",
    "\n",
    "dirpath = '../data/sodankyla_cam/'\n",
    "all_ATL03, all_ATL08 = track_pairs(dirpath)\n",
    "N = len(all_ATL03)"
   ]
  },
  {
   "cell_type": "code",
   "execution_count": null,
   "id": "610fbacc-35b4-4c11-8c42-9b146a8a05da",
   "metadata": {},
   "outputs": [],
   "source": [
    "csv_path = 'snow_cam_details.csv'\n",
    "df = pd.read_csv(csv_path).dropna().drop('Image', axis=1)"
   ]
  },
  {
   "cell_type": "code",
   "execution_count": null,
   "id": "87a5a7a5-26ba-4ce2-961a-3f3ef779dde1",
   "metadata": {},
   "outputs": [],
   "source": []
  }
 ],
 "metadata": {
  "kernelspec": {
   "display_name": "Python 3 (ipykernel)",
   "language": "python",
   "name": "python3"
  },
  "language_info": {
   "codemirror_mode": {
    "name": "ipython",
    "version": 3
   },
   "file_extension": ".py",
   "mimetype": "text/x-python",
   "name": "python",
   "nbconvert_exporter": "python",
   "pygments_lexer": "ipython3",
   "version": "3.7.12"
  }
 },
 "nbformat": 4,
 "nbformat_minor": 5
}
