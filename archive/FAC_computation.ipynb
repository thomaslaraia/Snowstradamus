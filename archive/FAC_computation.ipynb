{
 "cells": [
  {
   "cell_type": "code",
   "execution_count": null,
   "id": "87b5023d-b485-44da-9caf-dcbd8212e004",
   "metadata": {},
   "outputs": [],
   "source": [
    "from scripts.hist_plot import *\n",
    "from scripts.confusion import *\n",
    "\n",
    "# Load the dataframe\n",
    "df = pd.read_pickle('five_sites_0-05_0-005box_snowreffed.pkl')\n",
    "\n",
    "hue_labels = {'0.0': 'No Snow', '1.0': 'Ground Snow', '2.0': 'Ground+Canopy Snow'}\n",
    "\n",
    "cameras = ['sodankyla_full','delta_junction','marcell_MN','lacclair','torgnon']\n",
    "\n",
    "accuracy = [[] for _ in range(len(cameras))]\n",
    "msw_flag_max = [[] for _ in range(len(cameras))]\n",
    "size = [[] for _ in range(len(cameras))]\n",
    "\n",
    "for I, c in enumerate(cameras):\n",
    "    for i in np.arange(5,0,-.25):\n",
    "        msw_flag_max[I].append(i)\n",
    "    \n",
    "        loc_df = df[(df['msw'] < i)&(df['Confidence'] == 1)&(df['camera'] == c)].reset_index(drop=True)\n",
    "\n",
    "        mean_n_seg = loc_df['data_quantity'].mean()\n",
    "        if c != 'torgnon':\n",
    "            FAC = mean_n_seg*100*12*loc_df.shape[0]/(10000**2)\n",
    "        else:\n",
    "            FAC = mean_n_seg*100*12*loc_df.shape[0]/(32083200)\n",
    "        \n",
    "        size[I].append(FAC)\n",
    "        print(c, i, loc_df.shape[0],FAC, mean_n_seg)\n",
    "    \n",
    "        FI = hist_plot(loc_df, hue_labels, X='asr', Hue='JointSnow', plot=False)\n",
    "        # print(FI)\n",
    "    \n",
    "        acc = confusion(loc_df, FI,variable = 'JointSnow',plot=False)\n",
    "        \n",
    "        accuracy[I].append(acc)"
   ]
  },
  {
   "cell_type": "code",
   "execution_count": null,
   "id": "865cb6b5-eed4-4afc-b0f9-f12ed0b8c930",
   "metadata": {},
   "outputs": [],
   "source": [
    "plt.figure()\n",
    "for i in range(5):\n",
    "    plt.plot(msw_flag_max[i],np.array(size[i]), label=cameras[i])\n",
    "plt.title('Dataset size when limited below given msw_flag')\n",
    "plt.xlabel('Maximum msw_flag')\n",
    "plt.ylabel('Fraction of Area Covered')\n",
    "plt.legend()\n",
    "# plt.savefig('./images/dataset_size/FAC_msw')\n",
    "plt.show()"
   ]
  }
 ],
 "metadata": {
  "kernelspec": {
   "display_name": "Python 3 (ipykernel)",
   "language": "python",
   "name": "python3"
  },
  "language_info": {
   "codemirror_mode": {
    "name": "ipython",
    "version": 3
   },
   "file_extension": ".py",
   "mimetype": "text/x-python",
   "name": "python",
   "nbconvert_exporter": "python",
   "pygments_lexer": "ipython3",
   "version": "3.11.8"
  }
 },
 "nbformat": 4,
 "nbformat_minor": 5
}
