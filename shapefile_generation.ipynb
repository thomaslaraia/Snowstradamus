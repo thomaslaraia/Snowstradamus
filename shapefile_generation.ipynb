{
 "cells": [
  {
   "cell_type": "code",
   "execution_count": 5,
   "id": "6e43b8b4-624f-4765-b0db-f5a61d883c0f",
   "metadata": {},
   "outputs": [],
   "source": [
    "import os\n",
    "import geopandas as gpd\n",
    "from shapely.geometry import Point, box as shapely_box\n",
    "import simplekml\n",
    "import numpy as np\n",
    "import zipfile\n",
    "import shutil\n",
    "\n",
    "def make_shapefile(string, coords, width_km=5, height_km=5, output_format='GeoJSON'):\n",
    "\n",
    "    # Approximate conversions\n",
    "    km_per_degree_lat = 111  # Kilometers per degree of latitude\n",
    "    km_per_degree_lon = 111 * np.cos(np.radians(coords[1]))  # Kilometers per degree of longitude at given latitude\n",
    "\n",
    "    # Convert width and height from kilometers to degrees\n",
    "    width = width_km / km_per_degree_lon\n",
    "    height = height_km / km_per_degree_lat\n",
    "    \n",
    "    # Create folders for output if they don't exist\n",
    "    output_folders = ['../data_store/data/shapefiles', './shapefiles']\n",
    "    for output_folder in output_folders:\n",
    "        os.makedirs(output_folder, exist_ok=True)\n",
    "\n",
    "    # Create a GeoDataFrame with a point and set the CRS explicitly\n",
    "    point = gpd.GeoDataFrame(geometry=[Point(coords)], crs=\"EPSG:4326\")\n",
    "\n",
    "    # Create a square (box) with a given width and height\n",
    "    bounding_box = shapely_box(\n",
    "        point.geometry.x[0] - width, \n",
    "        point.geometry.y[0] - height,\n",
    "        point.geometry.x[0] + width, \n",
    "        point.geometry.y[0] + height\n",
    "    )\n",
    "\n",
    "    # Convert the box to a GeoDataFrame\n",
    "    box_gdf = gpd.GeoDataFrame(geometry=[bounding_box], crs=\"EPSG:4326\")\n",
    "\n",
    "    # Save the file in the specified format\n",
    "    for output_folder in output_folders:\n",
    "        if output_format.lower() == 'geojson':\n",
    "            filename = os.path.join(output_folder, f\"{string}.geojson\")\n",
    "            box_gdf.to_file(filename, driver='GeoJSON')\n",
    "            print(f\"GeoJSON file '{filename}' created.\")\n",
    "        \n",
    "        elif output_format.lower() == 'shapefile':\n",
    "            # Create a temporary folder for shapefile components\n",
    "            shapefile_folder = os.path.join(output_folder, string)\n",
    "            os.makedirs(shapefile_folder, exist_ok=True)\n",
    "            \n",
    "            # Define the path for the shapefile components\n",
    "            filename = os.path.join(shapefile_folder, f\"{string}.shp\")\n",
    "            box_gdf.to_file(filename)\n",
    "            \n",
    "            # Zip the shapefile components\n",
    "            zip_filename = os.path.join(output_folder, f\"{string}.zip\")\n",
    "            with zipfile.ZipFile(zip_filename, 'w') as zipf:\n",
    "                for file in os.listdir(shapefile_folder):\n",
    "                    zipf.write(os.path.join(shapefile_folder, file), arcname=file)\n",
    "            \n",
    "            # Remove the temporary shapefile folder\n",
    "            shutil.rmtree(shapefile_folder)\n",
    "            print(f\"Shapefile '{zip_filename}' created and zipped.\")\n",
    "        \n",
    "        elif output_format.lower() == 'kml':\n",
    "            # Create a KML object\n",
    "            kml = simplekml.Kml()\n",
    "            \n",
    "            # Create a polygon from the box geometry\n",
    "            polygon_coords = [(x, y) for x, y in box_gdf.geometry.apply(lambda geom: list(geom.exterior.coords))[0]]\n",
    "            kml.newpolygon(name=f\"Box around {string}\", outerboundaryis=polygon_coords)\n",
    "            \n",
    "            filename = os.path.join(output_folder, f\"{string}.kml\")\n",
    "            kml.save(filename)\n",
    "            print(f\"KML file '{filename}' created.\")\n",
    "        \n",
    "        else:\n",
    "            print(f\"Unsupported format: {output_format}\")\n",
    "    \n",
    "    return\n"
   ]
  },
  {
   "cell_type": "code",
   "execution_count": 6,
   "id": "a89fad91-9582-4ce5-98a9-1cbf5268baf2",
   "metadata": {},
   "outputs": [
    {
     "name": "stdout",
     "output_type": "stream",
     "text": [
      "KML file '../data_store/data/shapefiles/oregon_5.kml' created.\n",
      "KML file './shapefiles/oregon_5.kml' created.\n"
     ]
    }
   ],
   "source": [
    "import numpy as np\n",
    "\n",
    "make_shapefile(string = \"oregon_5\",\n",
    "               coords = (-121.606, 44.3238),\n",
    "               width_km = 5,\n",
    "               height_km = 5,\n",
    "               output_format=\"kml\")"
   ]
  },
  {
   "cell_type": "markdown",
   "id": "18344ae6-d85b-4d23-ad48-a71cfec8fdef",
   "metadata": {},
   "source": [
    "# No file generation, just corners"
   ]
  },
  {
   "cell_type": "code",
   "execution_count": 1,
   "id": "8db87a11-81da-4453-bd54-4b6e8dac5254",
   "metadata": {},
   "outputs": [],
   "source": [
    "import numpy as np\n",
    "\n",
    "def get_bounding_box_corners(coords, width_km=25, height_km=25):\n",
    "    # Approximate conversions\n",
    "    km_per_degree_lat = 111  # Kilometers per degree of latitude\n",
    "    km_per_degree_lon = 111 * np.cos(np.radians(coords[1]))  # Kilometers per degree of longitude at given latitude\n",
    "\n",
    "    # Convert width and height from kilometers to degrees\n",
    "    width_deg = width_km / km_per_degree_lon\n",
    "    height_deg = height_km / km_per_degree_lat\n",
    "\n",
    "    # Calculate the southwest corner\n",
    "    sw_lon = coords[0] - width_deg\n",
    "    sw_lat = coords[1] - height_deg\n",
    "\n",
    "    # Calculate the northeast corner\n",
    "    ne_lon = coords[0] + width_deg\n",
    "    ne_lat = coords[1] + height_deg\n",
    "\n",
    "    # Return the corners as tuples\n",
    "    return (sw_lat, sw_lon), (ne_lat, ne_lon)"
   ]
  },
  {
   "cell_type": "code",
   "execution_count": 2,
   "id": "7bf84fd7-dbf9-44bd-a055-92a19d35521a",
   "metadata": {},
   "outputs": [
    {
     "name": "stdout",
     "output_type": "stream",
     "text": [
      "Southwest corner: (47.459854954954956, -93.5207813241899)\n",
      "Northeast corner: (47.54994504504504, -93.3874186758101)\n"
     ]
    }
   ],
   "source": [
    "# Example usage\n",
    "sw_corner, ne_corner = get_bounding_box_corners((-93.4541, 47.5049),\n",
    "                                                width_km=5,\n",
    "                                                height_km=5)\n",
    "print(f\"Southwest corner: {sw_corner}\")\n",
    "print(f\"Northeast corner: {ne_corner}\")\n"
   ]
  },
  {
   "cell_type": "code",
   "execution_count": 23,
   "id": "55bb9ff7-a1fc-41dc-be98-a063b7b84400",
   "metadata": {},
   "outputs": [
    {
     "name": "stdout",
     "output_type": "stream",
     "text": [
      "KML file '../data_store/data/shapefiles/sodankyla_test.kml' created.\n"
     ]
    }
   ],
   "source": [
    "# import numpy as np\n",
    "# import simplekml\n",
    "\n",
    "# def get_bounding_box_kml(coords, width_km=25, height_km=25, filename='bounding_box.kml'):\n",
    "#     # Approximate conversions\n",
    "#     km_per_degree_lat = 111  # Kilometers per degree of latitude\n",
    "#     km_per_degree_lon = 111 * np.cos(np.radians(coords[1]))  # Kilometers per degree of longitude at given latitude\n",
    "\n",
    "#     # Convert width and height from kilometers to degrees\n",
    "#     width_deg = width_km / km_per_degree_lon\n",
    "#     height_deg = height_km / km_per_degree_lat\n",
    "\n",
    "#     # Calculate the southwest and northeast corners\n",
    "#     sw_lon = coords[0] - width_deg\n",
    "#     sw_lat = coords[1] - height_deg\n",
    "#     ne_lon = coords[0] + width_deg\n",
    "#     ne_lat = coords[1] + height_deg\n",
    "\n",
    "#     # Calculate the other corners (northwest and southeast)\n",
    "#     nw_lon, nw_lat = sw_lon, ne_lat\n",
    "#     se_lon, se_lat = ne_lon, sw_lat\n",
    "\n",
    "#     # Create a KML object\n",
    "#     kml = simplekml.Kml()\n",
    "\n",
    "#     # Define the coordinates for the bounding box in KML format (closed polygon)\n",
    "#     bounding_box_coords = [(sw_lon, sw_lat), (nw_lon, nw_lat), (ne_lon, ne_lat), (se_lon, se_lat), (sw_lon, sw_lat)]\n",
    "\n",
    "#     # Create a polygon from the bounding box coordinates\n",
    "#     kml.newpolygon(name=\"Bounding Box\", outerboundaryis=bounding_box_coords)\n",
    "\n",
    "#     # Save the KML file\n",
    "#     kml.save(filename)\n",
    "#     print(f\"KML file '{filename}' created.\")\n",
    "\n",
    "# # Example usage\n",
    "# get_bounding_box_kml((26.634154, 67.36183), width_km=5, height_km=5, filename='../data_store/data/shapefiles/sodankyla_test.kml')\n"
   ]
  }
 ],
 "metadata": {
  "kernelspec": {
   "display_name": "Python 3 (ipykernel)",
   "language": "python",
   "name": "python3"
  },
  "language_info": {
   "codemirror_mode": {
    "name": "ipython",
    "version": 3
   },
   "file_extension": ".py",
   "mimetype": "text/x-python",
   "name": "python",
   "nbconvert_exporter": "python",
   "pygments_lexer": "ipython3",
   "version": "3.11.8"
  }
 },
 "nbformat": 4,
 "nbformat_minor": 5
}
