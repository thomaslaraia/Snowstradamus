{
 "cells": [
  {
   "cell_type": "markdown",
   "id": "d1eaec2a-891f-4b4f-9e5c-8f2fd3a0b2e6",
   "metadata": {},
   "source": [
    "mapLidar -inList ../U4344F1.laz ../U4344E2.laz ../U4344E1.laz ../U4344D3.laz ../U4344D1.laz ../U4344C4.laz ../U4344C3.laz ../U4344C2.laz ../U4344C1.laz ../U4344B3.laz ../U4344B1.laz ../U4344A4.laz ../U4344A3.laz ../U4344A2.laz ../U4344A1.laz ../U4343F2.laz ../U4343F1.laz ../U4343D4.laz ../U4343D3.laz ../U4343D2.laz ../U4343D1.laz ../U4343B4.laz ../U4343B3.laz ../U4343B2.laz ../U4343B1.laz -output sodankyla_canopy.tiff -res 5 -cover\n",
    "\n",
    "--\n",
    "\n",
    "Could not find command-not-found database. Run 'sudo apt update' to populate it.\n",
    "\n",
    "mapLidar: command not found\n"
   ]
  },
  {
   "cell_type": "markdown",
   "id": "9a8c17cc-e806-4cd3-8d8a-3a14807e825a",
   "metadata": {},
   "source": [
    "wget https://bitbucket.org/StevenHancock/gedisimulator/src/master/installGedi.bash\n",
    "\n",
    "chmod +x installGedi.bash\n",
    "\n",
    "installGedi.bash\n",
    "\n",
    "Could not find command-not-found database. Run 'sudo apt update' to populate it.\n",
    "\n",
    "installGedi.bash: command not found\n",
    "\n",
    "also tried ./installGedi.bash. bash installGedi.bash\n",
    "\n",
    "--\n",
    "\n",
    "sudo singularity build gediSingulatority makeSingularity.txt\n",
    "\n",
    "[sudo] password for s1803229: \n",
    "\n",
    "s1803229 is not allowed to run sudo on baltic10.  This incident will be reported"
   ]
  },
  {
   "cell_type": "code",
   "execution_count": null,
   "id": "d4b63d80-9993-4e20-b04e-56feb824ea4c",
   "metadata": {},
   "outputs": [],
   "source": [
    "filename = '../data_store/data/sodankyla_als/U4344F1.laz'\n",
    "\n"
   ]
  }
 ],
 "metadata": {
  "kernelspec": {
   "display_name": "Python 3 (ipykernel)",
   "language": "python",
   "name": "python3"
  },
  "language_info": {
   "codemirror_mode": {
    "name": "ipython",
    "version": 3
   },
   "file_extension": ".py",
   "mimetype": "text/x-python",
   "name": "python",
   "nbconvert_exporter": "python",
   "pygments_lexer": "ipython3",
   "version": "3.11.8"
  }
 },
 "nbformat": 4,
 "nbformat_minor": 5
}
