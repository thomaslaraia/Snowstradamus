{
 "cells": [
  {
   "cell_type": "code",
   "execution_count": 7,
   "id": "765535e6-830a-49fe-929c-0809bac36e72",
   "metadata": {},
   "outputs": [
    {
     "name": "stdout",
     "output_type": "stream",
     "text": [
      "             Camera        Date  FSC  Tree Snow  \\\n",
      "4    sodankyla_full  12/01/2019  1.0        0.0   \n",
      "5    sodankyla_full  24/01/2019  1.0        1.0   \n",
      "11   sodankyla_full  15/03/2019  1.0        0.0   \n",
      "12   sodankyla_full  27/03/2019  1.0        0.0   \n",
      "13   sodankyla_full  13/04/2019  1.0        0.0   \n",
      "..              ...         ...  ...        ...   \n",
      "359        lacclair  11/04/2020  1.0        0.0   \n",
      "360        lacclair  01/06/2020  0.0        0.0   \n",
      "361        lacclair  11/07/2020  0.0        0.0   \n",
      "362        lacclair  02/08/2020  0.0        0.0   \n",
      "364        lacclair  09/10/2020  0.0        0.0   \n",
      "\n",
      "                                                 Image    x_coord    y_coord  \\\n",
      "4         190112_133002_Ccam1.jpg (2048×1536) (fmi.fi)  26.634154  67.361833   \n",
      "5         190124_124501_Ccam1.jpg (2048×1536) (fmi.fi)  26.634154  67.361833   \n",
      "11        190315_121502_Ccam1.jpg (2048×1536) (fmi.fi)  26.634154  67.361833   \n",
      "12        190327_123004_Ccam1.jpg (2048×1536) (fmi.fi)  26.634154  67.361833   \n",
      "13        190413_143002_Ccam1.jpg (2048×1536) (fmi.fi)  26.634154  67.361833   \n",
      "..                                                 ...        ...        ...   \n",
      "359  lacclair_2020_04_11_060005.jpg (1296×960) (nau... -71.669600  46.952100   \n",
      "360                     The PhenoCam Network (nau.edu) -71.669600  46.952100   \n",
      "361                     The PhenoCam Network (nau.edu) -71.669600  46.952100   \n",
      "362                     The PhenoCam Network (nau.edu) -71.669600  46.952100   \n",
      "364                     The PhenoCam Network (nau.edu) -71.669600  46.952100   \n",
      "\n",
      "     Certainty  Altitude  MOD10A1  MYD10A1   SCFG  \n",
      "4          1.0     185.0    211.0    211.0  206.0  \n",
      "5          1.0     185.0    211.0    211.0  206.0  \n",
      "11         1.0     185.0     50.0     66.0  205.0  \n",
      "12         1.0     185.0     53.0     58.0  205.0  \n",
      "13         1.0     185.0     59.0     60.0  205.0  \n",
      "..         ...       ...      ...      ...    ...  \n",
      "359        1.0     313.0     43.0     38.0  205.0  \n",
      "360        1.0     313.0      0.0      0.0  205.0  \n",
      "361        1.0     313.0      0.0      0.0  205.0  \n",
      "362        1.0     313.0      0.0      0.0  205.0  \n",
      "364        1.0     313.0    250.0      0.0    0.0  \n",
      "\n",
      "[82 rows x 12 columns]\n"
     ]
    }
   ],
   "source": [
    "import pandas as pd\n",
    "\n",
    "# Replace 'your_file.xlsx' with the path to your .xlsx file\n",
    "df = pd.read_csv('snow_cam_details.csv').dropna()\n",
    "\n",
    "# Display the DataFrame\n",
    "print(df)"
   ]
  }
 ],
 "metadata": {
  "kernelspec": {
   "display_name": "Python 3 (ipykernel)",
   "language": "python",
   "name": "python3"
  },
  "language_info": {
   "codemirror_mode": {
    "name": "ipython",
    "version": 3
   },
   "file_extension": ".py",
   "mimetype": "text/x-python",
   "name": "python",
   "nbconvert_exporter": "python",
   "pygments_lexer": "ipython3",
   "version": "3.11.8"
  }
 },
 "nbformat": 4,
 "nbformat_minor": 5
}
