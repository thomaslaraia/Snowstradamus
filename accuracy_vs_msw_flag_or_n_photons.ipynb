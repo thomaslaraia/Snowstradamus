{
 "cells": [
  {
   "cell_type": "markdown",
   "id": "616d4d5f-2328-4fc3-82c1-4d20450ecc18",
   "metadata": {},
   "source": [
    "# Accuracy vs msw_flag"
   ]
  },
  {
   "cell_type": "code",
   "execution_count": null,
   "id": "61bc24c8-8b7f-4545-9b43-0d42de951261",
   "metadata": {},
   "outputs": [],
   "source": [
    "from scripts.hist_plot import *\n",
    "from scripts.confusion import *\n",
    "\n",
    "# Load the dataframe\n",
    "df = pd.read_pickle('five_sites_0-05_0-005box_n_photons_snowreffed.pkl')\n",
    "\n",
    "hue_labels = {'0.0': 'No Snow', '1.0': 'Ground Snow', '2.0': 'Ground+Canopy Snow'}\n",
    "\n",
    "accuracy = []\n",
    "msw_flag_max = []\n",
    "size = []\n",
    "\n",
    "for i in np.arange(5,-.01,-1):\n",
    "    msw_flag_max.append(i)\n",
    "\n",
    "    loc_df = df[(df['msw'] <= i)&(df['msw'] > i - 1)&(df['Confidence'] == 1)].reset_index(drop=True)\n",
    "    size.append(loc_df.shape[0])\n",
    "\n",
    "    FI = hist_plot(loc_df, hue_labels, X='asr', Hue='FSC', plot=False, preset=True)\n",
    "    # print(FI)\n",
    "\n",
    "    acc = confusion(loc_df, FI,variable = 'FSC',plot=False)\n",
    "    \n",
    "    accuracy.append(acc)"
   ]
  },
  {
   "cell_type": "code",
   "execution_count": null,
   "id": "5f032740-fe06-437b-a8d6-b21983e7900a",
   "metadata": {},
   "outputs": [],
   "source": [
    "plt.plot(msw_flag_max,accuracy)\n",
    "plt.title('NoSnow/Snow accuracy')\n",
    "plt.xlabel('maximum msw_flag')\n",
    "plt.ylabel('Accuracy')\n",
    "# plt.savefig('./images/n_photons/bracketed_msw_accuracy_two_classes')\n",
    "# plt.plot(msw_flag_max,np.array(size)/2000)"
   ]
  },
  {
   "cell_type": "code",
   "execution_count": null,
   "id": "49382f12-dc92-48c5-8f46-aac9cdbb3c56",
   "metadata": {},
   "outputs": [],
   "source": [
    "plt.plot(msw_flag_max,accuracy)\n",
    "plt.title('NoSnow/GroundSnow/Ground&CanopySnow accuracy')\n",
    "plt.xlabel('maximum msw_flag')\n",
    "plt.ylabel('Accuracy')\n",
    "# plt.savefig('./images/n_photons/bracketed_msw_accuracy_three_classes')\n",
    "# plt.plot(msw_flag_max,np.array(size)/2000)"
   ]
  },
  {
   "cell_type": "code",
   "execution_count": null,
   "id": "f07bb9d2-2912-4727-80a1-3d58b13dfbda",
   "metadata": {},
   "outputs": [],
   "source": [
    "plt.plot(msw_flag_max,np.array(size))\n",
    "plt.title('Dataset size by msw_flag (i-1,i]')\n",
    "plt.xlabel('maximum msw_flag')\n",
    "plt.ylabel('Dataset size')\n",
    "# plt.savefig('./images/n_photons/bracketed_datasize_msw')"
   ]
  },
  {
   "cell_type": "markdown",
   "id": "04dba46d-6697-4f9a-8070-516329698a80",
   "metadata": {},
   "source": [
    "# Accuracy vs n_photons"
   ]
  },
  {
   "cell_type": "code",
   "execution_count": null,
   "id": "54090647-8d88-408c-bb75-ef9f335ca485",
   "metadata": {},
   "outputs": [],
   "source": [
    "from scripts.hist_plot import *\n",
    "from scripts.confusion import *\n",
    "\n",
    "# Load the dataframe\n",
    "df = pd.read_pickle('five_sites_0-05_0-005box_n_photons_snowreffed.pkl')\n",
    "\n",
    "# plt.plot(df['n_photons'])\n",
    "\n",
    "hue_labels = {'0.0': 'No Snow', '1.0': 'Ground Snow', '2.0': 'Ground+Canopy Snow'}\n",
    "\n",
    "accuracy = []\n",
    "n_photons = []\n",
    "size = []\n",
    "\n",
    "for i in np.arange(0,1401,100):\n",
    "    n_photons.append(i)\n",
    "\n",
    "    loc_df = df[(df['n_photons'] >= i)&(df['n_photons'] < i + 100)&(df['Confidence'] == 1)].reset_index(drop=True)\n",
    "    size.append(loc_df.shape[0])\n",
    "\n",
    "    FI = hist_plot(loc_df, hue_labels, X='asr', Hue='JointSnow', plot=False, preset=True)\n",
    "    # print(FI)\n",
    "\n",
    "    acc = confusion(loc_df, FI,variable = 'JointSnow',plot=False)\n",
    "    \n",
    "    accuracy.append(acc)\n",
    "\n",
    "# plt.plot(n_photons,accuracy)\n",
    "# plt.title('NoSnow/Snow accuracy')\n",
    "# plt.xlabel('Minimum Number of Photons in Segment')\n",
    "# plt.ylabel('Accuracy')\n",
    "# plt.savefig('./images/n_photons/bracketed_n_photons_accuracy_two_classes')\n",
    "# plt.show()\n",
    "\n",
    "plt.plot(n_photons,accuracy)\n",
    "plt.title('NoSnow/GroundSnow/Ground&CanopySnow accuracy')\n",
    "plt.xlabel('Minimum Number of Photons in Segment')\n",
    "plt.ylabel('Accuracy')\n",
    "# plt.savefig('./images/n_photons/bracketed_n_photons_accuracy_three_classes')\n",
    "plt.show()"
   ]
  },
  {
   "cell_type": "code",
   "execution_count": null,
   "id": "960a1456-5a46-4e3d-9e5d-9e9d38605e87",
   "metadata": {},
   "outputs": [],
   "source": [
    "plt.plot(n_photons,np.array(size))\n",
    "plt.title('Dataset size by n_photons [i,i+100]')\n",
    "plt.xlabel('n_photons')\n",
    "plt.ylabel('Dataset size')\n",
    "# plt.savefig('./images/n_photons/bracketed_datasize_n_photons')"
   ]
  },
  {
   "cell_type": "code",
   "execution_count": null,
   "id": "deb5944d-7222-4c9c-a64b-81ec606c918a",
   "metadata": {},
   "outputs": [],
   "source": []
  }
 ],
 "metadata": {
  "kernelspec": {
   "display_name": "Python 3 (ipykernel)",
   "language": "python",
   "name": "python3"
  },
  "language_info": {
   "codemirror_mode": {
    "name": "ipython",
    "version": 3
   },
   "file_extension": ".py",
   "mimetype": "text/x-python",
   "name": "python",
   "nbconvert_exporter": "python",
   "pygments_lexer": "ipython3",
   "version": "3.11.8"
  }
 },
 "nbformat": 4,
 "nbformat_minor": 5
}
