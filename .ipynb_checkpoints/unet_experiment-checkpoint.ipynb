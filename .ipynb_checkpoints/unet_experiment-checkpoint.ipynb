{
 "cells": [
  {
   "cell_type": "markdown",
   "id": "1de1f2d4-5fc6-46ad-8038-88ec63a86abb",
   "metadata": {},
   "source": [
    "# VGG16 Pre-defined Model Approach"
   ]
  },
  {
   "cell_type": "code",
   "execution_count": 1,
   "id": "437bcae5-ba14-4c62-b495-ceec8430f5fd",
   "metadata": {},
   "outputs": [],
   "source": [
    "import os\n",
    "import numpy as np\n",
    "import tensorflow as tf\n",
    "from tensorflow.keras.preprocessing import image\n",
    "from tensorflow.keras.applications.vgg16 import VGG16, preprocess_input\n",
    "from sklearn.manifold import Isomap\n",
    "import matplotlib.pyplot as plt\n",
    "import matplotlib.image as mpimg\n",
    "from tqdm import tqdm\n",
    "import random\n",
    "from PIL import Image\n",
    "from matplotlib.offsetbox import OffsetImage, AnnotationBbox\n",
    "\n",
    "# Function to load and preprocess images\n",
    "def load_and_preprocess_images(image_paths):\n",
    "    images = []\n",
    "    for path in tqdm(image_paths, desc=\"Loading and preprocessing images\"):\n",
    "        img = image.load_img(path, target_size=(256,256))\n",
    "        img = image.img_to_array(img)\n",
    "        img = preprocess_input(img)\n",
    "        images.append(img)\n",
    "    return np.array(images)\n",
    "\n",
    "# Function to extract features using a pre-trained VGG16 model\n",
    "def extract_features(images):\n",
    "    base_model = VGG16(weights='imagenet', include_top=False)\n",
    "    model = tf.keras.Model(inputs=base_model.input, outputs=base_model.layers[-1].output)\n",
    "    features = []\n",
    "    for img in tqdm(images, desc=\"Extracting features using VGG16\"):\n",
    "        feature = model.predict(np.expand_dims(img, axis=0))\n",
    "        features.append(feature.flatten())\n",
    "    return np.array(features)\n",
    "\n",
    "# Function to perform Isomap dimensionality reduction\n",
    "def perform_isomap(features):\n",
    "    isomap = Isomap(n_components=2)\n",
    "    embeddings = isomap.fit_transform(features)\n",
    "    return embeddings\n",
    "\n",
    "def getImage(path):\n",
    "    return OffsetImage(plt.imread(path), zoom=.015, alpha = 1)\n",
    "    \n",
    "# Function to plot the embeddings\n",
    "def plot_embeddings(embeddings, image_paths, title='Isomap Clustering', thumbnail_size=(64,64), num_samples=10, w=100):\n",
    "    fig, ax = plt.subplots(figsize=(10,10), dpi=200)\n",
    "    selected_indices = random.sample(range(len(image_paths)), num_samples)\n",
    "    ax.scatter(embeddings[:, 0], embeddings[:, 1], s=3, color='lightgrey')\n",
    "    for i in selected_indices:\n",
    "        ab = AnnotationBbox(getImage(image_paths[i]), (embeddings[i,0], embeddings[i,1]), frameon=False)\n",
    "        ax.add_artist(ab)\n",
    "        # img = Image.open(image_paths[i])\n",
    "        # img.thumbnail(thumbnail_size)\n",
    "        # plt.imshow(img, extent=(embeddings[i, 0] - w/2, embeddings[i, 0] + w/2, embeddings[i, 1]-w/2, embeddings[i, 1] + w/2), aspect='auto')\n",
    "    ax.set_title(title)\n",
    "    ax.set_xlabel('Component 1')\n",
    "    ax.set_ylabel('Component 2')\n",
    "    plt.savefig('isomap.png', bbox_inches='tight')\n",
    "    plt.show()"
   ]
  },
  {
   "cell_type": "code",
   "execution_count": 4,
   "id": "1d852ea3-69ea-4c7f-8f25-7c9b7fa12403",
   "metadata": {},
   "outputs": [
    {
     "name": "stderr",
     "output_type": "stream",
     "text": [
      "Loading and preprocessing images: 100%|████████████████████████████████████████████| 3640/3640 [02:05<00:00, 28.95it/s]\n"
     ]
    }
   ],
   "source": [
    "image_dir = '../data/sodankyla_cam/pine_ground_cam/'\n",
    "\n",
    "image_paths_curated = [os.path.join(image_dir, filename) for filename in os.listdir(image_dir) if filename.endswith('.jpg') and filename.split('_')[-1][:2] in ['10', '11', '12', '13', '14']]\n",
    "image_paths_curated.sort()\n",
    "\n",
    "# Load and preprocess images\n",
    "images_curated = load_and_preprocess_images(image_paths_curated)"
   ]
  },
  {
   "cell_type": "code",
   "execution_count": 2,
   "id": "ab5096c6-3c0d-475a-8fb6-f5ad2469a2a7",
   "metadata": {
    "scrolled": true
   },
   "outputs": [],
   "source": [
    "# # Extract features using VGG16\n",
    "# features = extract_features(images_curated)"
   ]
  },
  {
   "cell_type": "code",
   "execution_count": 3,
   "id": "06eb70ef-aa59-4844-a4ed-15dd7e36bc10",
   "metadata": {
    "scrolled": true
   },
   "outputs": [],
   "source": [
    "# # Perform Isomap dimensionality reduction\n",
    "# embeddings = perform_isomap(features)"
   ]
  },
  {
   "cell_type": "code",
   "execution_count": 4,
   "id": "bf8ff938-dc07-4acc-a3c6-9bef01bc9be7",
   "metadata": {
    "scrolled": true
   },
   "outputs": [],
   "source": [
    "# # Plot the embeddings\n",
    "# plot_embeddings(embeddings, image_paths_curated, num_samples=50)"
   ]
  },
  {
   "cell_type": "code",
   "execution_count": 32,
   "id": "ce422c72-b087-4a1a-a8dd-dd22e480099e",
   "metadata": {},
   "outputs": [],
   "source": [
    "# np.save('features.npy', features)"
   ]
  },
  {
   "cell_type": "code",
   "execution_count": 34,
   "id": "3edb0b89-297f-439a-9110-e442b0341d7f",
   "metadata": {},
   "outputs": [],
   "source": [
    "features = np.load('../data/unet_experiment/features.npy')\n",
    "embeddings = np.load('../data/unet_experiment/embeddings.npy')"
   ]
  },
  {
   "cell_type": "code",
   "execution_count": 36,
   "id": "3170c9b4-ca8f-4082-81ed-e29de1373599",
   "metadata": {},
   "outputs": [],
   "source": [
    "# np.save('embeddings.npy', embeddings)"
   ]
  }
 ],
 "metadata": {
  "kernelspec": {
   "display_name": "Python 3 (ipykernel)",
   "language": "python",
   "name": "python3"
  },
  "language_info": {
   "codemirror_mode": {
    "name": "ipython",
    "version": 3
   },
   "file_extension": ".py",
   "mimetype": "text/x-python",
   "name": "python",
   "nbconvert_exporter": "python",
   "pygments_lexer": "ipython3",
   "version": "3.9.18"
  }
 },
 "nbformat": 4,
 "nbformat_minor": 5
}
