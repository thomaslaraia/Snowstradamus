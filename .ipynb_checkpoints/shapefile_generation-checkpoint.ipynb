{
 "cells": [
  {
   "cell_type": "code",
   "execution_count": 3,
   "id": "2044de69",
   "metadata": {},
   "outputs": [],
   "source": [
    "import geopandas as gpd\n",
    "from shapely.geometry import Point, box as shapely_box\n",
    "import simplekml\n",
    "import os\n",
    "\n",
    "\n",
    "def make_shapefile(string, coords, width=4000, height=4000):\n",
    "    \n",
    "    # Create a folder named 'shapefiles'\n",
    "    output_folder = '../data_store/data/shapefiles'\n",
    "    # output_folder = './shapefiles'\n",
    "    os.makedirs(output_folder, exist_ok=True)\n",
    "\n",
    "    # Create a GeoDataFrame with a point for Sodankylä and set the CRS explicitly\n",
    "    point = gpd.GeoDataFrame(geometry=[Point(coords)], crs=\"EPSG:4326\")\n",
    "\n",
    "    # Reproject to a projected CRS (e.g., UTM)\n",
    "    point_utm = point.to_crs(epsg=32635)  # You may need to choose an appropriate EPSG code\n",
    "\n",
    "    # Create a square (box) with a given width and height\n",
    "    bounding_box = shapely_box(point_utm.geometry.x[0] - width / 2, point_utm.geometry.y[0] - height / 2,\n",
    "                               point_utm.geometry.x[0] + width / 2, point_utm.geometry.y[0] + height / 2)\n",
    "\n",
    "    # Convert the box to a GeoDataFrame\n",
    "    box_gdf = gpd.GeoDataFrame(geometry=[bounding_box], crs=point_utm.crs)\n",
    "\n",
    "    # Reproject back to the original CRS\n",
    "    box = box_gdf.to_crs(epsg=4326)\n",
    "\n",
    "    # Create a subfolder for each string\n",
    "    # string_folder = os.path.join(output_folder, f\"{string}\")\n",
    "    # os.makedirs(string_folder, exist_ok=True)\n",
    "\n",
    "    # Create a KML object\n",
    "    kml = simplekml.Kml()\n",
    "\n",
    "    # Create a polygon from the box geometry\n",
    "    polygon_coords = [(x, y) for x, y in box.geometry.apply(lambda geom: list(geom.exterior.coords))[0]]\n",
    "    polygon = kml.newpolygon(name=f\"Box around {string}\", outerboundaryis=polygon_coords)\n",
    "\n",
    "    # Save the KML file in the subfolder\n",
    "    kml_filename = os.path.join(output_folder, f\"{string}.kml\")\n",
    "    kml.save(kml_filename)\n",
    "\n",
    "    print(f\"KML file '{kml_filename}' created.\")\n",
    "    return"
   ]
  },
  {
   "cell_type": "code",
   "execution_count": 4,
   "id": "a89fad91-9582-4ce5-98a9-1cbf5268baf2",
   "metadata": {},
   "outputs": [
    {
     "name": "stdout",
     "output_type": "stream",
     "text": [
      "KML file '../data_store/data/shapefiles/torgnon.kml' created.\n"
     ]
    }
   ],
   "source": [
    "import numpy as np\n",
    "\n",
    "make_shapefile(string = \"torgnon\",\n",
    "               coords = (7.5609, 45.8238),\n",
    "               width = round(8000/np.sqrt(2),6),\n",
    "               height = round(8000/np.sqrt(2),6))"
   ]
  }
 ],
 "metadata": {
  "kernelspec": {
   "display_name": "Python 3 (ipykernel)",
   "language": "python",
   "name": "python3"
  },
  "language_info": {
   "codemirror_mode": {
    "name": "ipython",
    "version": 3
   },
   "file_extension": ".py",
   "mimetype": "text/x-python",
   "name": "python",
   "nbconvert_exporter": "python",
   "pygments_lexer": "ipython3",
   "version": "3.11.8"
  }
 },
 "nbformat": 4,
 "nbformat_minor": 5
}
