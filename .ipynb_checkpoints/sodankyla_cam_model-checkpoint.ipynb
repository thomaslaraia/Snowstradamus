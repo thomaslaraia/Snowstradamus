{
 "cells": [
  {
   "cell_type": "markdown",
   "id": "c3f15901-c106-497c-8d2c-1804fd762156",
   "metadata": {},
   "source": [
    "# Model to Determine FSC = 0 or FSC = 1 from ICESat-2 Data"
   ]
  },
  {
   "cell_type": "code",
   "execution_count": 2,
   "id": "4449923b-7bb7-42c7-8b81-7bcb3249a745",
   "metadata": {},
   "outputs": [],
   "source": [
    "from scripts.imports import os, glob, pdb, np, h5py, pd, xr, gpd, Proj, Transformer, CRS, \\\n",
    "                        plt, cmap, cmap2, Model, Data, ODR, datetime, rasterio, show, \\\n",
    "                        ccrs, cfeature\n",
    "from scripts.classes_fixed import *\n",
    "from scripts.track_pairs import *\n",
    "from scripts.show_tracks import *\n",
    "\n",
    "# %matplotlib ipympl\n",
    "\n",
    "dirpath = '../data/sodankyla_cam/'\n",
    "all_ATL03, all_ATL08 = track_pairs(dirpath)\n",
    "N = len(all_ATL03)"
   ]
  },
  {
   "cell_type": "code",
   "execution_count": 27,
   "id": "09cceed0-e8e9-4ded-851b-a611609a24af",
   "metadata": {},
   "outputs": [],
   "source": [
    "csv_path = '../data/sodankyla_cam/snow_cam_details.csv'\n",
    "df = pd.read_csv(csv_path).dropna().drop('Image', axis=1)\n",
    "df_pure = df.drop(['Camera','Date'], axis=1)"
   ]
  },
  {
   "cell_type": "code",
   "execution_count": 32,
   "id": "c18f3db3-c463-40b2-9e75-f5c4c96e61db",
   "metadata": {},
   "outputs": [
    {
     "name": "stdout",
     "output_type": "stream",
     "text": [
      "0.0\n",
      "1.0\n",
      "2.0\n",
      "3.0\n",
      "4.0\n",
      "5.0\n",
      "8.0\n",
      "10.0\n",
      "12.0\n",
      "14.0\n",
      "16.0\n",
      "17.0\n",
      "18.0\n",
      "20.0\n",
      "21.0\n",
      "23.0\n",
      "24.0\n",
      "25.0\n",
      "26.0\n",
      "30.0\n",
      "31.0\n",
      "32.0\n",
      "35.0\n"
     ]
    }
   ],
   "source": [
    "pvpg = []\n",
    "mean_Eg_strong = []\n",
    "mean_Eg_weak = []\n",
    "mean_Ev_strong = []\n",
    "mean_Ev_weak = []\n",
    "msw_flag = []\n",
    "night_flag = []\n",
    "mean_asr = []\n",
    "\n",
    "\n",
    "for i in df_pure['File Number']:\n",
    "    print(i)"
   ]
  }
 ],
 "metadata": {
  "kernelspec": {
   "display_name": "Python 3 (ipykernel)",
   "language": "python",
   "name": "python3"
  },
  "language_info": {
   "codemirror_mode": {
    "name": "ipython",
    "version": 3
   },
   "file_extension": ".py",
   "mimetype": "text/x-python",
   "name": "python",
   "nbconvert_exporter": "python",
   "pygments_lexer": "ipython3",
   "version": "3.12.2"
  }
 },
 "nbformat": 4,
 "nbformat_minor": 5
}
