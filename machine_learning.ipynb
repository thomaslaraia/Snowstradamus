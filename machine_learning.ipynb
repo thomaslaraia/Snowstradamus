{
 "cells": [
  {
   "cell_type": "markdown",
   "id": "0f608df3-81c9-49f3-9815-71c86c49cefc",
   "metadata": {},
   "source": [
    "# This first one is rudimentary because I think I can build it quickly. I want to make a second attempt further down using the segments in each 500m cell individually to do fractional snow cover, i.e. an algorithm that binary detects snow/non-snow per segment, and if 4/5 segments are snow-detected then we get 80% FSC."
   ]
  },
  {
   "cell_type": "code",
   "execution_count": 1,
   "id": "985efa53-186e-4105-8f72-326ade0d5ad6",
   "metadata": {},
   "outputs": [
    {
     "name": "stdout",
     "output_type": "stream",
     "text": [
      "<class 'pandas.core.frame.DataFrame'>\n",
      "Index: 2136 entries, 0 to 2457\n",
      "Data columns (total 24 columns):\n",
      " #   Column         Non-Null Count  Dtype  \n",
      "---  ------         --------------  -----  \n",
      " 0   camera         2136 non-null   object \n",
      " 1   date           2136 non-null   object \n",
      " 2   pvpg           2136 non-null   float64\n",
      " 3   y_strong       1840 non-null   float64\n",
      " 4   y_weak         1273 non-null   float64\n",
      " 5   x_strong       1840 non-null   float64\n",
      " 6   x_weak         1273 non-null   float64\n",
      " 7   longitude      2136 non-null   float64\n",
      " 8   latitude       2136 non-null   float64\n",
      " 9   meanEgstrong   1840 non-null   float64\n",
      " 10  meanEgweak     1273 non-null   float64\n",
      " 11  meanEvstrong   1840 non-null   float64\n",
      " 12  meanEvweak     1273 non-null   float64\n",
      " 13  msw            2136 non-null   float64\n",
      " 14  night          2136 non-null   float64\n",
      " 15  asr            2136 non-null   float32\n",
      " 16  n_photons      2136 non-null   float64\n",
      " 17  data_quantity  2136 non-null   float64\n",
      " 18  FSC            2136 non-null   float64\n",
      " 19  TreeSnow       2136 non-null   float64\n",
      " 20  JointSnow      2136 non-null   float64\n",
      " 21  Confidence     2136 non-null   float64\n",
      " 22  MxD10A1F       2136 non-null   object \n",
      " 23  cc             1680 non-null   object \n",
      "dtypes: float32(1), float64(19), object(4)\n",
      "memory usage: 408.8+ KB\n"
     ]
    }
   ],
   "source": [
    "from scripts.imports import *\n",
    "\n",
    "df = pd.read_pickle('five_sites_data_snow_cc.pkl')\n",
    "df = df[df['Confidence'] == 1]\n",
    "\n",
    "# df\n",
    "df.info()"
   ]
  },
  {
   "cell_type": "markdown",
   "id": "f25c9db6-9ba7-4b00-b7c3-041b9b59a263",
   "metadata": {},
   "source": [
    "#### Linear Regression"
   ]
  },
  {
   "cell_type": "code",
   "execution_count": 7,
   "id": "fe776fb5-17e2-4177-87e4-e61c9b5ba5c9",
   "metadata": {},
   "outputs": [
    {
     "name": "stdout",
     "output_type": "stream",
     "text": [
      "Cross-Validation RMSE scores:  [0.326979   0.36764504 0.3273285  0.3410039  0.30343134 0.31617196\n",
      " 0.32522901 0.35606912 0.31427409 0.34973675]\n",
      "Mean Cross-Validation RMSE:  0.33278686957702425\n"
     ]
    }
   ],
   "source": [
    "from sklearn.model_selection import train_test_split, cross_val_score\n",
    "from sklearn.linear_model import LinearRegression\n",
    "\n",
    "# Select the relevant columns for the model, excluding 'meanEgweak' and 'meanEvweak'\n",
    "X = df[['meanEgstrong', 'meanEvstrong', 'msw', 'asr', 'night']]\n",
    "y = df['FSC']\n",
    "\n",
    "# Drop rows with NaN values in the selected columns\n",
    "X = X.dropna()\n",
    "y = y[X.index]  # Ensure that 'y' aligns with 'X' after dropping NaNs\n",
    "\n",
    "# Apply dummy encoding to 'night' (even though it's binary, this ensures consistent approach)\n",
    "X = pd.get_dummies(X, columns=['night'], drop_first=True)\n",
    "\n",
    "# Split the data into training and test sets (80/20 split)\n",
    "X_train, X_test, y_train, y_test = train_test_split(X, y, test_size=0.2, random_state=42)\n",
    "\n",
    "# Initialize the linear regression model\n",
    "model = LinearRegression()\n",
    "\n",
    "# Perform cross-validation on the training set\n",
    "cv_scores = cross_val_score(model, X_train, y_train, cv=10, scoring='neg_mean_squared_error')\n",
    "cv_scores = np.sqrt(-cv_scores)  # Convert MSE to RMSE\n",
    "\n",
    "# # Train the model\n",
    "# model.fit(X_train, y_train)\n",
    "\n",
    "# # Predict on the test set\n",
    "# y_pred = model.predict(X_test)\n",
    "\n",
    "# # Restrict predictions to [0, 1]\n",
    "# y_pred = np.clip(y_pred, 0, 1)\n",
    "\n",
    "# # Evaluate the model on the test set\n",
    "# test_score = np.sqrt(np.mean((y_pred - y_test) ** 2))\n",
    "\n",
    "# # Output the results\n",
    "# print(\"Cross-Validation RMSE scores: \", cv_scores)\n",
    "# print(\"Mean Cross-Validation RMSE: \", cv_scores.mean())\n",
    "# print(\"Test RMSE: \", test_score)\n",
    "\n",
    "# Output the results\n",
    "print(\"Cross-Validation RMSE scores: \", cv_scores)\n",
    "print(\"Mean Cross-Validation RMSE: \", cv_scores.mean())"
   ]
  },
  {
   "cell_type": "markdown",
   "id": "4cc64c8a-4cfb-42de-b39d-058381f80f67",
   "metadata": {},
   "source": [
    "#### Logistic Regression"
   ]
  },
  {
   "cell_type": "code",
   "execution_count": 6,
   "id": "821c32bc-3272-4269-b588-eb0124391de5",
   "metadata": {},
   "outputs": [
    {
     "name": "stdout",
     "output_type": "stream",
     "text": [
      "Cross-Validation F1 Scores: [0.87407407 0.82352941 0.88111888 0.86524823 0.88888889 0.89361702\n",
      " 0.86896552 0.79069767 0.86956522 0.88405797]\n",
      "Mean Cross-Validation F1 Score: 0.8639762884139282\n"
     ]
    }
   ],
   "source": [
    "from sklearn.model_selection import train_test_split, cross_val_score\n",
    "from sklearn.linear_model import LogisticRegression\n",
    "\n",
    "# Select the relevant columns for the model, excluding 'meanEgweak' and 'meanEvweak'\n",
    "X = df[['meanEgstrong', 'meanEvstrong', 'msw', 'asr', 'night']]\n",
    "y = df['FSC']\n",
    "\n",
    "# Drop rows with NaN values in the selected columns\n",
    "X = X.dropna()\n",
    "y = y[X.index]  # Ensure that 'y' aligns with 'X' after dropping NaNs\n",
    "\n",
    "# Apply dummy encoding to 'night' (even though it's binary, this ensures consistent approach)\n",
    "X = pd.get_dummies(X, columns=['night'], drop_first=True)\n",
    "\n",
    "# Split the data into training and test sets (80/20 split)\n",
    "X_train, X_test, y_train, y_test = train_test_split(X, y, test_size=0.2, random_state=42)\n",
    "\n",
    "# Initialize the logistic regression model\n",
    "model = LogisticRegression()\n",
    "\n",
    "# Perform cross-validation on the training set\n",
    "cv_scores = cross_val_score(model, X_train, y_train, cv=10, scoring='f1')\n",
    "\n",
    "# Display cross-validation scores\n",
    "print(\"Cross-Validation F1 Scores:\", cv_scores)\n",
    "print(\"Mean Cross-Validation F1 Score:\", cv_scores.mean())\n",
    "\n",
    "# # Train the model\n",
    "# model.fit(X_train, y_train)"
   ]
  },
  {
   "cell_type": "markdown",
   "id": "b6280e9e-e606-4b20-a2b2-f2554101cc7c",
   "metadata": {},
   "source": [
    "#### Ridge/Lasso"
   ]
  },
  {
   "cell_type": "code",
   "execution_count": 16,
   "id": "b611a46a-451a-4e86-9904-4292a27d671d",
   "metadata": {},
   "outputs": [
    {
     "name": "stdout",
     "output_type": "stream",
     "text": [
      "Best alpha for Ridge Regression:  0.5689866029018293\n",
      "Best alpha for Lasso Regression:  0.00030888435964774815\n",
      "Best CV score for Ridge Regression:  0.33326508074830435\n",
      "Best CV score for Lasso Regression:  0.3333160536914119\n"
     ]
    }
   ],
   "source": [
    "from sklearn.model_selection import GridSearchCV, train_test_split\n",
    "from sklearn.linear_model import Ridge, Lasso\n",
    "\n",
    "# Select the relevant columns for the model, excluding 'meanEgweak' and 'meanEvweak'\n",
    "X = df[['meanEgstrong', 'meanEvstrong', 'msw', 'asr', 'night']]\n",
    "y = df['FSC']\n",
    "\n",
    "# Drop rows with NaN values in the selected columns\n",
    "X = X.dropna()\n",
    "y = y[X.index]  # Ensure that 'y' aligns with 'X' after dropping NaNs\n",
    "\n",
    "# Apply dummy encoding to 'night'\n",
    "X = pd.get_dummies(X, columns=['night'], drop_first=True)\n",
    "\n",
    "# Split the data into training and test sets (80/20 split)\n",
    "X_train, X_test, y_train, y_test = train_test_split(X, y, test_size=0.2, random_state=42)\n",
    "\n",
    "# Define the grid of alpha values to search over\n",
    "alpha_values = np.logspace(-4, 4, 50)  # Creates 50 values between 1e-4 and 1e4\n",
    "\n",
    "# Ridge Regression with GridSearchCV\n",
    "ridge_model = Ridge()\n",
    "ridge_grid = {'alpha': alpha_values}\n",
    "ridge_search = GridSearchCV(ridge_model, ridge_grid, cv=10, scoring='neg_mean_squared_error')\n",
    "ridge_search.fit(X_train, y_train)\n",
    "\n",
    "# Lasso Regression with GridSearchCV\n",
    "lasso_model = Lasso(max_iter=10000)  # Increase max_iter for Lasso due to potential convergence issues\n",
    "lasso_grid = {'alpha': alpha_values}\n",
    "lasso_search = GridSearchCV(lasso_model, lasso_grid, cv=10, scoring='neg_mean_squared_error')\n",
    "lasso_search.fit(X_train, y_train)\n",
    "\n",
    "# Best alpha values\n",
    "print(\"Best alpha for Ridge Regression: \", ridge_search.best_params_['alpha'])\n",
    "print(\"Best alpha for Lasso Regression: \", lasso_search.best_params_['alpha'])\n",
    "\n",
    "# Best CV scores (negative MSE, so higher is better)\n",
    "print(\"Best CV score for Ridge Regression: \", np.sqrt(-ridge_search.best_score_))\n",
    "print(\"Best CV score for Lasso Regression: \", np.sqrt(-lasso_search.best_score_))"
   ]
  },
  {
   "cell_type": "code",
   "execution_count": 15,
   "id": "134eef57-73a3-441c-880f-17822f73bc6f",
   "metadata": {
    "scrolled": true
   },
   "outputs": [
    {
     "name": "stdout",
     "output_type": "stream",
     "text": [
      "Ridge Regression Cross-Validation RMSE scores:  [0.32459058 0.36771222 0.32664998 0.3416524  0.30458747 0.31676251\n",
      " 0.3258135  0.3564261  0.31452441 0.34846323]\n",
      "Mean Ridge Regression Cross-Validation RMSE:  0.33271824060562244\n",
      "\n",
      "Lasso Regression Cross-Validation RMSE scores:  [0.32528045 0.36768476 0.32689135 0.34150429 0.30445423 0.31659756\n",
      " 0.32567569 0.35627767 0.31444172 0.34887661]\n",
      "Mean Lasso Regression Cross-Validation RMSE:  0.33276843556028546\n"
     ]
    }
   ],
   "source": [
    "from sklearn.model_selection import train_test_split, cross_val_score\n",
    "from sklearn.linear_model import Ridge, Lasso\n",
    "\n",
    "# Select the relevant columns for the model, excluding 'meanEgweak' and 'meanEvweak'\n",
    "X = df[['meanEgstrong', 'meanEvstrong', 'msw', 'asr', 'night']]\n",
    "y = df['FSC']\n",
    "\n",
    "# Drop rows with NaN values in the selected columns\n",
    "X = X.dropna()\n",
    "y = y[X.index]  # Ensure that 'y' aligns with 'X' after dropping NaNs\n",
    "\n",
    "# Apply dummy encoding to 'night'\n",
    "X = pd.get_dummies(X, columns=['night'], drop_first=True)\n",
    "\n",
    "# Split the data into training and test sets (80/20 split)\n",
    "X_train, X_test, y_train, y_test = train_test_split(X, y, test_size=0.2, random_state=42)\n",
    "\n",
    "# Initialize the Ridge and Lasso regression models\n",
    "ridge_model = Ridge(alpha=0.5689866029018293)\n",
    "lasso_model = Lasso(alpha=0.00030888435964774815)\n",
    "\n",
    "# Perform cross-validation on the training set (10-fold)\n",
    "ridge_cv_scores = cross_val_score(ridge_model, X_train, y_train, cv=10, scoring='neg_mean_squared_error')\n",
    "lasso_cv_scores = cross_val_score(lasso_model, X_train, y_train, cv=10, scoring='neg_mean_squared_error')\n",
    "\n",
    "# Convert negative MSE to positive RMSE for interpretability\n",
    "ridge_cv_rmse = np.sqrt(-ridge_cv_scores)\n",
    "lasso_cv_rmse = np.sqrt(-lasso_cv_scores)\n",
    "\n",
    "# Print the cross-validation results\n",
    "print(\"Ridge Regression Cross-Validation RMSE scores: \", ridge_cv_rmse)\n",
    "print(\"Mean Ridge Regression Cross-Validation RMSE: \", ridge_cv_rmse.mean())\n",
    "print()\n",
    "print(\"Lasso Regression Cross-Validation RMSE scores: \", lasso_cv_rmse)\n",
    "print(\"Mean Lasso Regression Cross-Validation RMSE: \", lasso_cv_rmse.mean())"
   ]
  },
  {
   "cell_type": "markdown",
   "id": "dcde8061-6799-467d-ae85-f119932bbd98",
   "metadata": {},
   "source": [
    "#### Random Forest"
   ]
  },
  {
   "cell_type": "markdown",
   "id": "d3d22a51-9538-40bd-ad02-3115e8fc64c1",
   "metadata": {},
   "source": [
    "Discrete"
   ]
  },
  {
   "cell_type": "code",
   "execution_count": 19,
   "id": "95469385-8344-43d4-8123-21e0d0806420",
   "metadata": {},
   "outputs": [
    {
     "name": "stdout",
     "output_type": "stream",
     "text": [
      "Random Forest Classifier Cross-Validation Accuracy scores:  [0.88405797 0.89041096 0.90277778 0.91666667 0.95238095 0.94366197\n",
      " 0.95774648 0.90140845 0.89051095 0.93877551]\n",
      "Mean Cross-Validation Accuracy:  0.917839768726164\n"
     ]
    }
   ],
   "source": [
    "from sklearn.model_selection import train_test_split, cross_val_score\n",
    "from sklearn.ensemble import RandomForestClassifier\n",
    "\n",
    "# Select the relevant columns for the model, excluding 'meanEgweak' and 'meanEvweak'\n",
    "X = df[['meanEgstrong', 'meanEvstrong', 'msw', 'asr', 'night']]\n",
    "y = df['FSC']\n",
    "\n",
    "# Drop rows with NaN values in the selected columns\n",
    "X = X.dropna()\n",
    "y = y[X.index]  # Ensure that 'y' aligns with 'X' after dropping NaNs\n",
    "\n",
    "# Apply dummy encoding to 'night'\n",
    "X = pd.get_dummies(X, columns=['night'], drop_first=True)\n",
    "\n",
    "# Split the data into training and test sets (80/20 split)\n",
    "X_train, X_test, y_train, y_test = train_test_split(X, y, test_size=0.2, random_state=42)\n",
    "\n",
    "# Initialize the Random Forest Classifier\n",
    "rf_classifier = RandomForestClassifier(n_estimators=1000, random_state=42)\n",
    "\n",
    "# Perform cross-validation on the training set (10-fold)\n",
    "cv_scores = cross_val_score(rf_classifier, X_train, y_train, cv=10, scoring='f1')\n",
    "\n",
    "# Train the model on the full training set\n",
    "# rf_classifier.fit(X_train, y_train)\n",
    "\n",
    "# Predict on the test set\n",
    "# y_pred = rf_classifier.predict(X_test)\n",
    "\n",
    "# Evaluate the model\n",
    "# test_accuracy = np.mean(y_pred == y_test)\n",
    "\n",
    "# Output the results\n",
    "print(\"Random Forest Classifier Cross-Validation Accuracy scores: \", cv_scores)\n",
    "print(\"Mean Cross-Validation Accuracy: \", cv_scores.mean())\n",
    "# print(\"Test Set RMSE: \", test_rmse)"
   ]
  },
  {
   "cell_type": "markdown",
   "id": "a4e43c16-4cee-424e-8fdb-29e20c1ca600",
   "metadata": {},
   "source": [
    "Continuous"
   ]
  },
  {
   "cell_type": "code",
   "execution_count": 22,
   "id": "cb743a6f-dcb5-4889-addc-b5920a06086c",
   "metadata": {},
   "outputs": [
    {
     "name": "stdout",
     "output_type": "stream",
     "text": [
      "Random Forest Regressor Cross-Validation RMSE scores:  [0.25275375 0.29965521 0.27157014 0.26655908 0.18258164 0.21724152\n",
      " 0.24372115 0.24662484 0.27089421 0.23900161]\n",
      "Mean Cross-Validation RMSE:  0.24906031386976032\n"
     ]
    }
   ],
   "source": [
    "from sklearn.model_selection import train_test_split, cross_val_score\n",
    "from sklearn.ensemble import RandomForestRegressor\n",
    "\n",
    "# Select the relevant columns for the model, excluding 'meanEgweak' and 'meanEvweak'\n",
    "X = df[['meanEgstrong', 'meanEvstrong', 'msw', 'asr', 'night']]\n",
    "y = df['FSC']\n",
    "\n",
    "# Drop rows with NaN values in the selected columns\n",
    "X = X.dropna()\n",
    "y = y[X.index]  # Ensure that 'y' aligns with 'X' after dropping NaNs\n",
    "\n",
    "# Apply dummy encoding to 'night'\n",
    "X = pd.get_dummies(X, columns=['night'], drop_first=True)\n",
    "\n",
    "# Split the data into training and test sets (80/20 split)\n",
    "X_train, X_test, y_train, y_test = train_test_split(X, y, test_size=0.2, random_state=42)\n",
    "\n",
    "# Initialize the Random Forest Regressor\n",
    "rf_regressor = RandomForestRegressor(n_estimators=100, random_state=42)\n",
    "\n",
    "# Perform cross-validation on the training set (10-fold)\n",
    "cv_scores = cross_val_score(rf_regressor, X_train, y_train, cv=10, scoring='neg_mean_squared_error')\n",
    "\n",
    "# Convert negative MSE to positive RMSE for interpretability\n",
    "cv_rmse = np.sqrt(-cv_scores)\n",
    "\n",
    "# # Train the model on the full training set\n",
    "# rf_regressor.fit(X_train, y_train)\n",
    "\n",
    "# # Predict on the test set\n",
    "# y_pred = rf_regressor.predict(X_test)\n",
    "\n",
    "# # Restrict predictions to [0, 1]\n",
    "# y_pred = np.clip(y_pred, 0, 1)\n",
    "\n",
    "# # Calculate RMSE on the test set\n",
    "# test_rmse = np.sqrt(np.mean((y_pred - y_test) ** 2))\n",
    "\n",
    "# Output the results\n",
    "print(\"Random Forest Regressor Cross-Validation RMSE scores: \", cv_rmse)\n",
    "print(\"Mean Cross-Validation RMSE: \", cv_rmse.mean())\n",
    "# print(\"Test Set RMSE: \", test_rmse)"
   ]
  },
  {
   "cell_type": "markdown",
   "id": "c2618b07-0113-4329-96e5-00458f79a39e",
   "metadata": {},
   "source": [
    "#### Support Vector Machines"
   ]
  },
  {
   "cell_type": "markdown",
   "id": "564cf1d5-10e7-4cdc-abb7-45358682e8ea",
   "metadata": {},
   "source": [
    "SVC"
   ]
  },
  {
   "cell_type": "markdown",
   "id": "cd2af0dc-fb3c-43b8-989b-883c3513464d",
   "metadata": {},
   "source": [
    "SVR"
   ]
  },
  {
   "cell_type": "markdown",
   "id": "83b5448c-edb6-473c-81d3-088a4eb6fac8",
   "metadata": {},
   "source": [
    "#### k-Nearest Neighbours"
   ]
  },
  {
   "cell_type": "markdown",
   "id": "094801e6-30b6-4700-b870-ca71f53414d8",
   "metadata": {},
   "source": [
    "Classifer"
   ]
  },
  {
   "cell_type": "markdown",
   "id": "a77bca6d-e84b-42c5-9aef-1d643a4465c5",
   "metadata": {},
   "source": [
    "Regressor"
   ]
  },
  {
   "cell_type": "markdown",
   "id": "ded2fcc9-d743-4ad1-bffa-e5697de84acf",
   "metadata": {},
   "source": [
    "#### Neural Network"
   ]
  },
  {
   "cell_type": "code",
   "execution_count": null,
   "id": "b9099b57-2351-4c92-a0ac-16f8222bdb8a",
   "metadata": {},
   "outputs": [],
   "source": []
  }
 ],
 "metadata": {
  "kernelspec": {
   "display_name": "SLURM Forth HPC 8 CPUs",
   "language": "",
   "name": "rik_slurm_forthhpc_8"
  },
  "language_info": {
   "codemirror_mode": {
    "name": "ipython",
    "version": 3
   },
   "file_extension": ".py",
   "mimetype": "text/x-python",
   "name": "python",
   "nbconvert_exporter": "python",
   "pygments_lexer": "ipython3",
   "version": "3.11.8"
  }
 },
 "nbformat": 4,
 "nbformat_minor": 5
}
