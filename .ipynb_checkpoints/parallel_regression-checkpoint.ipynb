{
 "cells": [
  {
   "cell_type": "markdown",
   "id": "ff58facb-bef6-4364-a64e-894d2e7bb77b",
   "metadata": {},
   "source": [
    "# Sodankyla"
   ]
  },
  {
   "cell_type": "markdown",
   "id": "bc0012c7-b645-469a-a61b-6c017824b598",
   "metadata": {},
   "source": [
    "#### Arctan loss, f_scale = .1"
   ]
  },
  {
   "cell_type": "code",
   "execution_count": 7,
   "id": "0eff894b",
   "metadata": {
    "scrolled": true
   },
   "outputs": [
    {
     "data": {
      "text/plain": [
       "['../data_store/data/sodankyla_full/processed_ATL03_20190112214359_02360205_006_02.h5',\n",
       " '../data_store/data/sodankyla_full/processed_ATL03_20190124083414_04110203_006_02.h5',\n",
       " '../data_store/data/sodankyla_full/processed_ATL03_20190327053800_13560203_006_02.h5',\n",
       " '../data_store/data/sodankyla_full/processed_ATL03_20190413172354_02360305_006_02.h5',\n",
       " '../data_store/data/sodankyla_full/processed_ATL03_20190425041400_04110303_006_02.h5',\n",
       " '../data_store/data/sodankyla_full/processed_ATL03_20190614142731_11810305_006_02.h5',\n",
       " '../data_store/data/sodankyla_full/processed_ATL03_20190626011737_13560303_006_02.h5',\n",
       " '../data_store/data/sodankyla_full/processed_ATL03_20191023193336_04110503_006_02.h5',\n",
       " '../data_store/data/sodankyla_full/processed_ATL03_20200111042311_02360605_006_01.h5',\n",
       " '../data_store/data/sodankyla_full/processed_ATL03_20200122151319_04110603_006_01.h5',\n",
       " '../data_store/data/sodankyla_full/processed_ATL03_20200324121701_13560603_006_01.h5',\n",
       " '../data_store/data/sodankyla_full/processed_ATL03_20200411000258_02360705_006_02.h5',\n",
       " '../data_store/data/sodankyla_full/processed_ATL03_20200422105308_04110703_006_02.h5',\n",
       " '../data_store/data/sodankyla_full/processed_ATL03_20200611210642_11810705_006_01.h5',\n",
       " '../data_store/data/sodankyla_full/processed_ATL03_20200623075651_13560703_006_01.h5',\n",
       " '../data_store/data/sodankyla_full/processed_ATL03_20200710194244_02360805_006_01.h5',\n",
       " '../data_store/data/sodankyla_full/processed_ATL03_20200910164631_11810805_006_02.h5',\n",
       " '../data_store/data/sodankyla_full/processed_ATL03_20201021021240_04110903_006_01.h5',\n",
       " '../data_store/data/sodankyla_full/processed_ATL03_20210409064218_02361105_006_02.h5',\n",
       " '../data_store/data/sodankyla_full/processed_ATL03_20210420173227_04111103_006_02.h5',\n",
       " '../data_store/data/sodankyla_full/processed_ATL03_20210610034606_11811105_006_01.h5',\n",
       " '../data_store/data/sodankyla_full/processed_ATL03_20210709022208_02361205_006_01.h5',\n",
       " '../data_store/data/sodankyla_full/processed_ATL03_20210720131217_04111203_006_01.h5',\n",
       " '../data_store/data/sodankyla_full/processed_ATL03_20210908232601_11811205_006_02.h5',\n",
       " '../data_store/data/sodankyla_full/processed_ATL03_20210920101609_13561203_006_02.h5',\n",
       " '../data_store/data/sodankyla_full/processed_ATL03_20211007220207_02361305_006_01.h5',\n",
       " '../data_store/data/sodankyla_full/processed_ATL03_20211220055605_13561303_006_01.h5',\n",
       " '../data_store/data/sodankyla_full/processed_ATL03_20220118043209_04111403_006_01.h5',\n",
       " '../data_store/data/sodankyla_full/processed_ATL03_20220419001154_04111503_006_02.h5',\n",
       " '../data_store/data/sodankyla_full/processed_ATL03_20220608102541_11811505_006_01.h5',\n",
       " '../data_store/data/sodankyla_full/processed_ATL03_20220707090150_02361605_006_02.h5',\n",
       " '../data_store/data/sodankyla_full/processed_ATL03_20220718195157_04111603_006_02.h5',\n",
       " '../data_store/data/sodankyla_full/processed_ATL03_20221017153147_04111703_006_01.h5',\n",
       " '../data_store/data/sodankyla_full/processed_ATL03_20230307212510_11811805_006_02.h5',\n",
       " '../data_store/data/sodankyla_full/processed_ATL03_20230319081525_13561803_006_02.h5',\n",
       " '../data_store/data/sodankyla_full/processed_ATL03_20230405200119_02361905_006_02.h5',\n",
       " '../data_store/data/sodankyla_full/processed_ATL03_20230417065118_04111903_006_02.h5',\n",
       " '../data_store/data/sodankyla_full/processed_ATL03_20230618035439_13561903_006_02.h5',\n",
       " '../data_store/data/sodankyla_full/processed_ATL03_20230705154028_02362005_006_02.h5',\n",
       " '../data_store/data/sodankyla_full/processed_ATL03_20230717023029_04112003_006_02.h5',\n",
       " '../data_store/data/sodankyla_full/processed_ATL03_20230905124352_11812005_006_02.h5',\n",
       " '../data_store/data/sodankyla_full/processed_ATL03_20231004111956_02362105_006_02.h5',\n",
       " '../data_store/data/sodankyla_full/processed_ATL03_20240103065938_02362205_006_01.h5',\n",
       " '../data_store/data/sodankyla_full/processed_ATL03_20240114174936_04112203_006_01.h5',\n",
       " '../data_store/data/sodankyla_full/processed_ATL03_20240316145300_13562203_006_01.h5',\n",
       " '../data_store/data/sodankyla_full/processed_ATL03_20240403023858_02362305_006_01.h5',\n",
       " '../data_store/data/sodankyla_full/processed_ATL03_20240407023039_02972305_006_01.h5',\n",
       " '../data_store/data/sodankyla_full/processed_ATL03_20240414132901_04112303_006_01.h5',\n",
       " '../data_store/data/sodankyla_full/processed_ATL03_20240714090839_04112403_006_01.h5']"
      ]
     },
     "execution_count": 7,
     "metadata": {},
     "output_type": "execute_result"
    }
   ],
   "source": [
    "# from scripts.parallel_blocks import *\n",
    "from scripts.parallel_phoreal import *\n",
    "# pd.set_option('display.max_rows', None)  # Show all rows\n",
    "# pd.set_option('display.max_columns', None)  # Show all columns\n",
    "# pd.set_option('display.width', None)  # Adjust the display width to show all columns\n",
    "# pd.set_option('display.max_colwidth', None)  # Show full content of each column\n",
    "\n",
    "# dirpath = 'R:/data/sodankyla_full/'\n",
    "dirpath = '../data_store/data/sodankyla_full/'\n",
    "\n",
    "# data = []\n",
    "\n",
    "all_ATL03, all_ATL08, failed_ATL03 = track_pairs(dirpath, failed=True)\n",
    "N = len(all_ATL03)\n",
    "\n",
    "all_ATL03\n",
    "\n",
    "# coords = (26.634154, 67.361833)\n",
    "\n",
    "# for i in range(N):\n",
    "#     # print(all_ATL03[i], all_ATL08[i])\n",
    "#     data = pvpg_parallel(all_ATL03[i], all_ATL08[i], coords=coords, width=5,height=5,\\\n",
    "#                          graph_detail=2,file_index=i,altitude=185,threshold=1,alt_thresh=80)\n",
    "    # data = pvpg_parallel(dirpath, all_ATL03[i], all_ATL08[i], coords=coords, width=.01,height=.01,\\\n",
    "    #                      graph_detail=1,file_index=i,altitude=185,threshold=1,small_box=.01,alt_thresh=80)"
   ]
  },
  {
   "cell_type": "markdown",
   "id": "cb3a0298-6d09-40db-a3bb-096749c4ee10",
   "metadata": {},
   "source": [
    "# Delta Junction"
   ]
  },
  {
   "cell_type": "code",
   "execution_count": 1,
   "id": "a31a5712-4f90-4bc1-b837-29343aa4a27e",
   "metadata": {},
   "outputs": [
    {
     "name": "stdout",
     "output_type": "stream",
     "text": [
      "Failed to open ATL03 file for delta_junction file 1's beam 1.\n",
      "Failed to open ATL03 file for delta_junction file 1's beam 2.\n",
      "['asr', 'atlas_pa', 'beam_azimuth', 'beam_coelev', 'brightness_flag', 'can_noise', 'canopy_h_metrics_0', 'canopy_h_metrics_1', 'canopy_h_metrics_2', 'canopy_h_metrics_3', 'canopy_h_metrics_4', 'canopy_h_metrics_5', 'canopy_h_metrics_6', 'canopy_h_metrics_7', 'canopy_h_metrics_8', 'canopy_h_metrics_9', 'canopy_h_metrics_10', 'canopy_h_metrics_11', 'canopy_h_metrics_12', 'canopy_h_metrics_13', 'canopy_h_metrics_14', 'canopy_h_metrics_15', 'canopy_h_metrics_16', 'canopy_h_metrics_17', 'canopy_h_metrics_abs_0', 'canopy_h_metrics_abs_1', 'canopy_h_metrics_abs_2', 'canopy_h_metrics_abs_3', 'canopy_h_metrics_abs_4', 'canopy_h_metrics_abs_5', 'canopy_h_metrics_abs_6', 'canopy_h_metrics_abs_7', 'canopy_h_metrics_abs_8', 'canopy_h_metrics_abs_9', 'canopy_h_metrics_abs_10', 'canopy_h_metrics_abs_11', 'canopy_h_metrics_abs_12', 'canopy_h_metrics_abs_13', 'canopy_h_metrics_abs_14', 'canopy_h_metrics_abs_15', 'canopy_h_metrics_abs_16', 'canopy_h_metrics_abs_17', 'canopy_openness', 'canopy_rh_conf', 'centroid_height', 'h_canopy', 'h_canopy_20m_0', 'h_canopy_20m_1', 'h_canopy_20m_2', 'h_canopy_20m_3', 'h_canopy_20m_4', 'h_canopy_abs', 'h_canopy_quad', 'h_canopy_uncertainty', 'h_dif_canopy', 'h_max_canopy', 'h_max_canopy_abs', 'h_mean_canopy', 'h_mean_canopy_abs', 'h_median_canopy', 'h_median_canopy_abs', 'h_min_canopy', 'h_min_canopy_abs', 'n_ca_photons', 'n_toc_photons', 'photon_rate_can', 'photon_rate_can_nr', 'segment_cover', 'subset_can_flag_0', 'subset_can_flag_1', 'subset_can_flag_2', 'subset_can_flag_3', 'subset_can_flag_4', 'toc_roughness', 'cloud_flag_atm', 'cloud_fold_flag', 'delta_time', 'delta_time_beg', 'delta_time_end', 'dem_flag', 'dem_h', 'dem_removal_flag', 'h_dif_ref', 'last_seg_extend', 'latitude', 'latitude_20m_0', 'latitude_20m_1', 'latitude_20m_2', 'latitude_20m_3', 'latitude_20m_4', 'layer_flag', 'longitude', 'longitude_20m_0', 'longitude_20m_1', 'longitude_20m_2', 'longitude_20m_3', 'longitude_20m_4', 'msw_flag', 'n_seg_ph', 'night_flag', 'ph_ndx_beg', 'ph_removal_flag', 'psf_flag', 'rgt', 'sat_flag', 'segment_id_beg', 'segment_id_end', 'segment_landcover', 'segment_snowcover', 'segment_watermask', 'sigma_across', 'sigma_along', 'sigma_atlas_land', 'sigma_h', 'sigma_topo', 'snr', 'solar_azimuth', 'solar_elevation', 'surf_type_0', 'surf_type_1', 'surf_type_2', 'surf_type_3', 'surf_type_4', 'h_te_best_fit', 'h_te_best_fit_20m_0', 'h_te_best_fit_20m_1', 'h_te_best_fit_20m_2', 'h_te_best_fit_20m_3', 'h_te_best_fit_20m_4', 'h_te_interp', 'h_te_max', 'h_te_mean', 'h_te_median', 'h_te_min', 'h_te_mode', 'h_te_rh25', 'h_te_skew', 'h_te_std', 'h_te_uncertainty', 'n_te_photons', 'photon_rate_te', 'subset_te_flag_0', 'subset_te_flag_1', 'subset_te_flag_2', 'subset_te_flag_3', 'subset_te_flag_4', 'terrain_slope', 'terrain_flg', 'urban_flag', 'time', 'easting', 'northing', 'crosstrack', 'alongtrack']\n",
      "['asr', 'atlas_pa', 'beam_azimuth', 'beam_coelev', 'brightness_flag', 'can_noise', 'canopy_h_metrics_0', 'canopy_h_metrics_1', 'canopy_h_metrics_2', 'canopy_h_metrics_3', 'canopy_h_metrics_4', 'canopy_h_metrics_5', 'canopy_h_metrics_6', 'canopy_h_metrics_7', 'canopy_h_metrics_8', 'canopy_h_metrics_9', 'canopy_h_metrics_10', 'canopy_h_metrics_11', 'canopy_h_metrics_12', 'canopy_h_metrics_13', 'canopy_h_metrics_14', 'canopy_h_metrics_15', 'canopy_h_metrics_16', 'canopy_h_metrics_17', 'canopy_h_metrics_abs_0', 'canopy_h_metrics_abs_1', 'canopy_h_metrics_abs_2', 'canopy_h_metrics_abs_3', 'canopy_h_metrics_abs_4', 'canopy_h_metrics_abs_5', 'canopy_h_metrics_abs_6', 'canopy_h_metrics_abs_7', 'canopy_h_metrics_abs_8', 'canopy_h_metrics_abs_9', 'canopy_h_metrics_abs_10', 'canopy_h_metrics_abs_11', 'canopy_h_metrics_abs_12', 'canopy_h_metrics_abs_13', 'canopy_h_metrics_abs_14', 'canopy_h_metrics_abs_15', 'canopy_h_metrics_abs_16', 'canopy_h_metrics_abs_17', 'canopy_openness', 'canopy_rh_conf', 'centroid_height', 'h_canopy', 'h_canopy_20m_0', 'h_canopy_20m_1', 'h_canopy_20m_2', 'h_canopy_20m_3', 'h_canopy_20m_4', 'h_canopy_abs', 'h_canopy_quad', 'h_canopy_uncertainty', 'h_dif_canopy', 'h_max_canopy', 'h_max_canopy_abs', 'h_mean_canopy', 'h_mean_canopy_abs', 'h_median_canopy', 'h_median_canopy_abs', 'h_min_canopy', 'h_min_canopy_abs', 'n_ca_photons', 'n_toc_photons', 'photon_rate_can', 'photon_rate_can_nr', 'segment_cover', 'subset_can_flag_0', 'subset_can_flag_1', 'subset_can_flag_2', 'subset_can_flag_3', 'subset_can_flag_4', 'toc_roughness', 'cloud_flag_atm', 'cloud_fold_flag', 'delta_time', 'delta_time_beg', 'delta_time_end', 'dem_flag', 'dem_h', 'dem_removal_flag', 'h_dif_ref', 'last_seg_extend', 'latitude', 'latitude_20m_0', 'latitude_20m_1', 'latitude_20m_2', 'latitude_20m_3', 'latitude_20m_4', 'layer_flag', 'longitude', 'longitude_20m_0', 'longitude_20m_1', 'longitude_20m_2', 'longitude_20m_3', 'longitude_20m_4', 'msw_flag', 'n_seg_ph', 'night_flag', 'ph_ndx_beg', 'ph_removal_flag', 'psf_flag', 'rgt', 'sat_flag', 'segment_id_beg', 'segment_id_end', 'segment_landcover', 'segment_snowcover', 'segment_watermask', 'sigma_across', 'sigma_along', 'sigma_atlas_land', 'sigma_h', 'sigma_topo', 'snr', 'solar_azimuth', 'solar_elevation', 'surf_type_0', 'surf_type_1', 'surf_type_2', 'surf_type_3', 'surf_type_4', 'h_te_best_fit', 'h_te_best_fit_20m_0', 'h_te_best_fit_20m_1', 'h_te_best_fit_20m_2', 'h_te_best_fit_20m_3', 'h_te_best_fit_20m_4', 'h_te_interp', 'h_te_max', 'h_te_mean', 'h_te_median', 'h_te_min', 'h_te_mode', 'h_te_rh25', 'h_te_skew', 'h_te_std', 'h_te_uncertainty', 'n_te_photons', 'photon_rate_te', 'subset_te_flag_0', 'subset_te_flag_1', 'subset_te_flag_2', 'subset_te_flag_3', 'subset_te_flag_4', 'terrain_slope', 'terrain_flg', 'urban_flag', 'time', 'easting', 'northing', 'crosstrack', 'alongtrack']\n",
      "['asr', 'atlas_pa', 'beam_azimuth', 'beam_coelev', 'brightness_flag', 'can_noise', 'canopy_h_metrics_0', 'canopy_h_metrics_1', 'canopy_h_metrics_2', 'canopy_h_metrics_3', 'canopy_h_metrics_4', 'canopy_h_metrics_5', 'canopy_h_metrics_6', 'canopy_h_metrics_7', 'canopy_h_metrics_8', 'canopy_h_metrics_9', 'canopy_h_metrics_10', 'canopy_h_metrics_11', 'canopy_h_metrics_12', 'canopy_h_metrics_13', 'canopy_h_metrics_14', 'canopy_h_metrics_15', 'canopy_h_metrics_16', 'canopy_h_metrics_17', 'canopy_h_metrics_abs_0', 'canopy_h_metrics_abs_1', 'canopy_h_metrics_abs_2', 'canopy_h_metrics_abs_3', 'canopy_h_metrics_abs_4', 'canopy_h_metrics_abs_5', 'canopy_h_metrics_abs_6', 'canopy_h_metrics_abs_7', 'canopy_h_metrics_abs_8', 'canopy_h_metrics_abs_9', 'canopy_h_metrics_abs_10', 'canopy_h_metrics_abs_11', 'canopy_h_metrics_abs_12', 'canopy_h_metrics_abs_13', 'canopy_h_metrics_abs_14', 'canopy_h_metrics_abs_15', 'canopy_h_metrics_abs_16', 'canopy_h_metrics_abs_17', 'canopy_openness', 'canopy_rh_conf', 'centroid_height', 'h_canopy', 'h_canopy_20m_0', 'h_canopy_20m_1', 'h_canopy_20m_2', 'h_canopy_20m_3', 'h_canopy_20m_4', 'h_canopy_abs', 'h_canopy_quad', 'h_canopy_uncertainty', 'h_dif_canopy', 'h_max_canopy', 'h_max_canopy_abs', 'h_mean_canopy', 'h_mean_canopy_abs', 'h_median_canopy', 'h_median_canopy_abs', 'h_min_canopy', 'h_min_canopy_abs', 'n_ca_photons', 'n_toc_photons', 'photon_rate_can', 'photon_rate_can_nr', 'segment_cover', 'subset_can_flag_0', 'subset_can_flag_1', 'subset_can_flag_2', 'subset_can_flag_3', 'subset_can_flag_4', 'toc_roughness', 'cloud_flag_atm', 'cloud_fold_flag', 'delta_time', 'delta_time_beg', 'delta_time_end', 'dem_flag', 'dem_h', 'dem_removal_flag', 'h_dif_ref', 'last_seg_extend', 'latitude', 'latitude_20m_0', 'latitude_20m_1', 'latitude_20m_2', 'latitude_20m_3', 'latitude_20m_4', 'layer_flag', 'longitude', 'longitude_20m_0', 'longitude_20m_1', 'longitude_20m_2', 'longitude_20m_3', 'longitude_20m_4', 'msw_flag', 'n_seg_ph', 'night_flag', 'ph_ndx_beg', 'ph_removal_flag', 'psf_flag', 'rgt', 'sat_flag', 'segment_id_beg', 'segment_id_end', 'segment_landcover', 'segment_snowcover', 'segment_watermask', 'sigma_across', 'sigma_along', 'sigma_atlas_land', 'sigma_h', 'sigma_topo', 'snr', 'solar_azimuth', 'solar_elevation', 'surf_type_0', 'surf_type_1', 'surf_type_2', 'surf_type_3', 'surf_type_4', 'h_te_best_fit', 'h_te_best_fit_20m_0', 'h_te_best_fit_20m_1', 'h_te_best_fit_20m_2', 'h_te_best_fit_20m_3', 'h_te_best_fit_20m_4', 'h_te_interp', 'h_te_max', 'h_te_mean', 'h_te_median', 'h_te_min', 'h_te_mode', 'h_te_rh25', 'h_te_skew', 'h_te_std', 'h_te_uncertainty', 'n_te_photons', 'photon_rate_te', 'subset_te_flag_0', 'subset_te_flag_1', 'subset_te_flag_2', 'subset_te_flag_3', 'subset_te_flag_4', 'terrain_slope', 'terrain_flg', 'urban_flag', 'time', 'easting', 'northing', 'crosstrack', 'alongtrack']\n",
      "['asr', 'atlas_pa', 'beam_azimuth', 'beam_coelev', 'brightness_flag', 'can_noise', 'canopy_h_metrics_0', 'canopy_h_metrics_1', 'canopy_h_metrics_2', 'canopy_h_metrics_3', 'canopy_h_metrics_4', 'canopy_h_metrics_5', 'canopy_h_metrics_6', 'canopy_h_metrics_7', 'canopy_h_metrics_8', 'canopy_h_metrics_9', 'canopy_h_metrics_10', 'canopy_h_metrics_11', 'canopy_h_metrics_12', 'canopy_h_metrics_13', 'canopy_h_metrics_14', 'canopy_h_metrics_15', 'canopy_h_metrics_16', 'canopy_h_metrics_17', 'canopy_h_metrics_abs_0', 'canopy_h_metrics_abs_1', 'canopy_h_metrics_abs_2', 'canopy_h_metrics_abs_3', 'canopy_h_metrics_abs_4', 'canopy_h_metrics_abs_5', 'canopy_h_metrics_abs_6', 'canopy_h_metrics_abs_7', 'canopy_h_metrics_abs_8', 'canopy_h_metrics_abs_9', 'canopy_h_metrics_abs_10', 'canopy_h_metrics_abs_11', 'canopy_h_metrics_abs_12', 'canopy_h_metrics_abs_13', 'canopy_h_metrics_abs_14', 'canopy_h_metrics_abs_15', 'canopy_h_metrics_abs_16', 'canopy_h_metrics_abs_17', 'canopy_openness', 'canopy_rh_conf', 'centroid_height', 'h_canopy', 'h_canopy_20m_0', 'h_canopy_20m_1', 'h_canopy_20m_2', 'h_canopy_20m_3', 'h_canopy_20m_4', 'h_canopy_abs', 'h_canopy_quad', 'h_canopy_uncertainty', 'h_dif_canopy', 'h_max_canopy', 'h_max_canopy_abs', 'h_mean_canopy', 'h_mean_canopy_abs', 'h_median_canopy', 'h_median_canopy_abs', 'h_min_canopy', 'h_min_canopy_abs', 'n_ca_photons', 'n_toc_photons', 'photon_rate_can', 'photon_rate_can_nr', 'segment_cover', 'subset_can_flag_0', 'subset_can_flag_1', 'subset_can_flag_2', 'subset_can_flag_3', 'subset_can_flag_4', 'toc_roughness', 'cloud_flag_atm', 'cloud_fold_flag', 'delta_time', 'delta_time_beg', 'delta_time_end', 'dem_flag', 'dem_h', 'dem_removal_flag', 'h_dif_ref', 'last_seg_extend', 'latitude', 'latitude_20m_0', 'latitude_20m_1', 'latitude_20m_2', 'latitude_20m_3', 'latitude_20m_4', 'layer_flag', 'longitude', 'longitude_20m_0', 'longitude_20m_1', 'longitude_20m_2', 'longitude_20m_3', 'longitude_20m_4', 'msw_flag', 'n_seg_ph', 'night_flag', 'ph_ndx_beg', 'ph_removal_flag', 'psf_flag', 'rgt', 'sat_flag', 'segment_id_beg', 'segment_id_end', 'segment_landcover', 'segment_snowcover', 'segment_watermask', 'sigma_across', 'sigma_along', 'sigma_atlas_land', 'sigma_h', 'sigma_topo', 'snr', 'solar_azimuth', 'solar_elevation', 'surf_type_0', 'surf_type_1', 'surf_type_2', 'surf_type_3', 'surf_type_4', 'h_te_best_fit', 'h_te_best_fit_20m_0', 'h_te_best_fit_20m_1', 'h_te_best_fit_20m_2', 'h_te_best_fit_20m_3', 'h_te_best_fit_20m_4', 'h_te_interp', 'h_te_max', 'h_te_mean', 'h_te_median', 'h_te_min', 'h_te_mode', 'h_te_rh25', 'h_te_skew', 'h_te_std', 'h_te_uncertainty', 'n_te_photons', 'photon_rate_te', 'subset_te_flag_0', 'subset_te_flag_1', 'subset_te_flag_2', 'subset_te_flag_3', 'subset_te_flag_4', 'terrain_slope', 'terrain_flg', 'urban_flag', 'time', 'easting', 'northing', 'crosstrack', 'alongtrack']\n",
      "['asr', 'atlas_pa', 'beam_azimuth', 'beam_coelev', 'brightness_flag', 'can_noise', 'canopy_h_metrics_0', 'canopy_h_metrics_1', 'canopy_h_metrics_2', 'canopy_h_metrics_3', 'canopy_h_metrics_4', 'canopy_h_metrics_5', 'canopy_h_metrics_6', 'canopy_h_metrics_7', 'canopy_h_metrics_8', 'canopy_h_metrics_9', 'canopy_h_metrics_10', 'canopy_h_metrics_11', 'canopy_h_metrics_12', 'canopy_h_metrics_13', 'canopy_h_metrics_14', 'canopy_h_metrics_15', 'canopy_h_metrics_16', 'canopy_h_metrics_17', 'canopy_h_metrics_abs_0', 'canopy_h_metrics_abs_1', 'canopy_h_metrics_abs_2', 'canopy_h_metrics_abs_3', 'canopy_h_metrics_abs_4', 'canopy_h_metrics_abs_5', 'canopy_h_metrics_abs_6', 'canopy_h_metrics_abs_7', 'canopy_h_metrics_abs_8', 'canopy_h_metrics_abs_9', 'canopy_h_metrics_abs_10', 'canopy_h_metrics_abs_11', 'canopy_h_metrics_abs_12', 'canopy_h_metrics_abs_13', 'canopy_h_metrics_abs_14', 'canopy_h_metrics_abs_15', 'canopy_h_metrics_abs_16', 'canopy_h_metrics_abs_17', 'canopy_openness', 'canopy_rh_conf', 'centroid_height', 'h_canopy', 'h_canopy_20m_0', 'h_canopy_20m_1', 'h_canopy_20m_2', 'h_canopy_20m_3', 'h_canopy_20m_4', 'h_canopy_abs', 'h_canopy_quad', 'h_canopy_uncertainty', 'h_dif_canopy', 'h_max_canopy', 'h_max_canopy_abs', 'h_mean_canopy', 'h_mean_canopy_abs', 'h_median_canopy', 'h_median_canopy_abs', 'h_min_canopy', 'h_min_canopy_abs', 'n_ca_photons', 'n_toc_photons', 'photon_rate_can', 'photon_rate_can_nr', 'segment_cover', 'subset_can_flag_0', 'subset_can_flag_1', 'subset_can_flag_2', 'subset_can_flag_3', 'subset_can_flag_4', 'toc_roughness', 'cloud_flag_atm', 'cloud_fold_flag', 'delta_time', 'delta_time_beg', 'delta_time_end', 'dem_flag', 'dem_h', 'dem_removal_flag', 'h_dif_ref', 'last_seg_extend', 'latitude', 'latitude_20m_0', 'latitude_20m_1', 'latitude_20m_2', 'latitude_20m_3', 'latitude_20m_4', 'layer_flag', 'longitude', 'longitude_20m_0', 'longitude_20m_1', 'longitude_20m_2', 'longitude_20m_3', 'longitude_20m_4', 'msw_flag', 'n_seg_ph', 'night_flag', 'ph_ndx_beg', 'ph_removal_flag', 'psf_flag', 'rgt', 'sat_flag', 'segment_id_beg', 'segment_id_end', 'segment_landcover', 'segment_snowcover', 'segment_watermask', 'sigma_across', 'sigma_along', 'sigma_atlas_land', 'sigma_h', 'sigma_topo', 'snr', 'solar_azimuth', 'solar_elevation', 'surf_type_0', 'surf_type_1', 'surf_type_2', 'surf_type_3', 'surf_type_4', 'h_te_best_fit', 'h_te_best_fit_20m_0', 'h_te_best_fit_20m_1', 'h_te_best_fit_20m_2', 'h_te_best_fit_20m_3', 'h_te_best_fit_20m_4', 'h_te_interp', 'h_te_max', 'h_te_mean', 'h_te_median', 'h_te_min', 'h_te_mode', 'h_te_rh25', 'h_te_skew', 'h_te_std', 'h_te_uncertainty', 'n_te_photons', 'photon_rate_te', 'subset_te_flag_0', 'subset_te_flag_1', 'subset_te_flag_2', 'subset_te_flag_3', 'subset_te_flag_4', 'terrain_slope', 'terrain_flg', 'urban_flag', 'time', 'easting', 'northing', 'crosstrack', 'alongtrack']\n",
      "['asr', 'atlas_pa', 'beam_azimuth', 'beam_coelev', 'brightness_flag', 'can_noise', 'canopy_h_metrics_0', 'canopy_h_metrics_1', 'canopy_h_metrics_2', 'canopy_h_metrics_3', 'canopy_h_metrics_4', 'canopy_h_metrics_5', 'canopy_h_metrics_6', 'canopy_h_metrics_7', 'canopy_h_metrics_8', 'canopy_h_metrics_9', 'canopy_h_metrics_10', 'canopy_h_metrics_11', 'canopy_h_metrics_12', 'canopy_h_metrics_13', 'canopy_h_metrics_14', 'canopy_h_metrics_15', 'canopy_h_metrics_16', 'canopy_h_metrics_17', 'canopy_h_metrics_abs_0', 'canopy_h_metrics_abs_1', 'canopy_h_metrics_abs_2', 'canopy_h_metrics_abs_3', 'canopy_h_metrics_abs_4', 'canopy_h_metrics_abs_5', 'canopy_h_metrics_abs_6', 'canopy_h_metrics_abs_7', 'canopy_h_metrics_abs_8', 'canopy_h_metrics_abs_9', 'canopy_h_metrics_abs_10', 'canopy_h_metrics_abs_11', 'canopy_h_metrics_abs_12', 'canopy_h_metrics_abs_13', 'canopy_h_metrics_abs_14', 'canopy_h_metrics_abs_15', 'canopy_h_metrics_abs_16', 'canopy_h_metrics_abs_17', 'canopy_openness', 'canopy_rh_conf', 'centroid_height', 'h_canopy', 'h_canopy_20m_0', 'h_canopy_20m_1', 'h_canopy_20m_2', 'h_canopy_20m_3', 'h_canopy_20m_4', 'h_canopy_abs', 'h_canopy_quad', 'h_canopy_uncertainty', 'h_dif_canopy', 'h_max_canopy', 'h_max_canopy_abs', 'h_mean_canopy', 'h_mean_canopy_abs', 'h_median_canopy', 'h_median_canopy_abs', 'h_min_canopy', 'h_min_canopy_abs', 'n_ca_photons', 'n_toc_photons', 'photon_rate_can', 'photon_rate_can_nr', 'segment_cover', 'subset_can_flag_0', 'subset_can_flag_1', 'subset_can_flag_2', 'subset_can_flag_3', 'subset_can_flag_4', 'toc_roughness', 'cloud_flag_atm', 'cloud_fold_flag', 'delta_time', 'delta_time_beg', 'delta_time_end', 'dem_flag', 'dem_h', 'dem_removal_flag', 'h_dif_ref', 'last_seg_extend', 'latitude', 'latitude_20m_0', 'latitude_20m_1', 'latitude_20m_2', 'latitude_20m_3', 'latitude_20m_4', 'layer_flag', 'longitude', 'longitude_20m_0', 'longitude_20m_1', 'longitude_20m_2', 'longitude_20m_3', 'longitude_20m_4', 'msw_flag', 'n_seg_ph', 'night_flag', 'ph_ndx_beg', 'ph_removal_flag', 'psf_flag', 'rgt', 'sat_flag', 'segment_id_beg', 'segment_id_end', 'segment_landcover', 'segment_snowcover', 'segment_watermask', 'sigma_across', 'sigma_along', 'sigma_atlas_land', 'sigma_h', 'sigma_topo', 'snr', 'solar_azimuth', 'solar_elevation', 'surf_type_0', 'surf_type_1', 'surf_type_2', 'surf_type_3', 'surf_type_4', 'h_te_best_fit', 'h_te_best_fit_20m_0', 'h_te_best_fit_20m_1', 'h_te_best_fit_20m_2', 'h_te_best_fit_20m_3', 'h_te_best_fit_20m_4', 'h_te_interp', 'h_te_max', 'h_te_mean', 'h_te_median', 'h_te_min', 'h_te_mode', 'h_te_rh25', 'h_te_skew', 'h_te_std', 'h_te_uncertainty', 'n_te_photons', 'photon_rate_te', 'subset_te_flag_0', 'subset_te_flag_1', 'subset_te_flag_2', 'subset_te_flag_3', 'subset_te_flag_4', 'terrain_slope', 'terrain_flg', 'urban_flag', 'time', 'easting', 'northing', 'crosstrack', 'alongtrack']\n",
      "['asr', 'atlas_pa', 'beam_azimuth', 'beam_coelev', 'brightness_flag', 'can_noise', 'canopy_h_metrics_0', 'canopy_h_metrics_1', 'canopy_h_metrics_2', 'canopy_h_metrics_3', 'canopy_h_metrics_4', 'canopy_h_metrics_5', 'canopy_h_metrics_6', 'canopy_h_metrics_7', 'canopy_h_metrics_8', 'canopy_h_metrics_9', 'canopy_h_metrics_10', 'canopy_h_metrics_11', 'canopy_h_metrics_12', 'canopy_h_metrics_13', 'canopy_h_metrics_14', 'canopy_h_metrics_15', 'canopy_h_metrics_16', 'canopy_h_metrics_17', 'canopy_h_metrics_abs_0', 'canopy_h_metrics_abs_1', 'canopy_h_metrics_abs_2', 'canopy_h_metrics_abs_3', 'canopy_h_metrics_abs_4', 'canopy_h_metrics_abs_5', 'canopy_h_metrics_abs_6', 'canopy_h_metrics_abs_7', 'canopy_h_metrics_abs_8', 'canopy_h_metrics_abs_9', 'canopy_h_metrics_abs_10', 'canopy_h_metrics_abs_11', 'canopy_h_metrics_abs_12', 'canopy_h_metrics_abs_13', 'canopy_h_metrics_abs_14', 'canopy_h_metrics_abs_15', 'canopy_h_metrics_abs_16', 'canopy_h_metrics_abs_17', 'canopy_openness', 'canopy_rh_conf', 'centroid_height', 'h_canopy', 'h_canopy_20m_0', 'h_canopy_20m_1', 'h_canopy_20m_2', 'h_canopy_20m_3', 'h_canopy_20m_4', 'h_canopy_abs', 'h_canopy_quad', 'h_canopy_uncertainty', 'h_dif_canopy', 'h_max_canopy', 'h_max_canopy_abs', 'h_mean_canopy', 'h_mean_canopy_abs', 'h_median_canopy', 'h_median_canopy_abs', 'h_min_canopy', 'h_min_canopy_abs', 'n_ca_photons', 'n_toc_photons', 'photon_rate_can', 'photon_rate_can_nr', 'segment_cover', 'subset_can_flag_0', 'subset_can_flag_1', 'subset_can_flag_2', 'subset_can_flag_3', 'subset_can_flag_4', 'toc_roughness', 'cloud_flag_atm', 'cloud_fold_flag', 'delta_time', 'delta_time_beg', 'delta_time_end', 'dem_flag', 'dem_h', 'dem_removal_flag', 'h_dif_ref', 'last_seg_extend', 'latitude', 'latitude_20m_0', 'latitude_20m_1', 'latitude_20m_2', 'latitude_20m_3', 'latitude_20m_4', 'layer_flag', 'longitude', 'longitude_20m_0', 'longitude_20m_1', 'longitude_20m_2', 'longitude_20m_3', 'longitude_20m_4', 'msw_flag', 'n_seg_ph', 'night_flag', 'ph_ndx_beg', 'ph_removal_flag', 'psf_flag', 'rgt', 'sat_flag', 'segment_id_beg', 'segment_id_end', 'segment_landcover', 'segment_snowcover', 'segment_watermask', 'sigma_across', 'sigma_along', 'sigma_atlas_land', 'sigma_h', 'sigma_topo', 'snr', 'solar_azimuth', 'solar_elevation', 'surf_type_0', 'surf_type_1', 'surf_type_2', 'surf_type_3', 'surf_type_4', 'h_te_best_fit', 'h_te_best_fit_20m_0', 'h_te_best_fit_20m_1', 'h_te_best_fit_20m_2', 'h_te_best_fit_20m_3', 'h_te_best_fit_20m_4', 'h_te_interp', 'h_te_max', 'h_te_mean', 'h_te_median', 'h_te_min', 'h_te_mode', 'h_te_rh25', 'h_te_skew', 'h_te_std', 'h_te_uncertainty', 'n_te_photons', 'photon_rate_te', 'subset_te_flag_0', 'subset_te_flag_1', 'subset_te_flag_2', 'subset_te_flag_3', 'subset_te_flag_4', 'terrain_slope', 'terrain_flg', 'urban_flag', 'time', 'easting', 'northing', 'crosstrack', 'alongtrack']\n",
      "['asr', 'atlas_pa', 'beam_azimuth', 'beam_coelev', 'brightness_flag', 'can_noise', 'canopy_h_metrics_0', 'canopy_h_metrics_1', 'canopy_h_metrics_2', 'canopy_h_metrics_3', 'canopy_h_metrics_4', 'canopy_h_metrics_5', 'canopy_h_metrics_6', 'canopy_h_metrics_7', 'canopy_h_metrics_8', 'canopy_h_metrics_9', 'canopy_h_metrics_10', 'canopy_h_metrics_11', 'canopy_h_metrics_12', 'canopy_h_metrics_13', 'canopy_h_metrics_14', 'canopy_h_metrics_15', 'canopy_h_metrics_16', 'canopy_h_metrics_17', 'canopy_h_metrics_abs_0', 'canopy_h_metrics_abs_1', 'canopy_h_metrics_abs_2', 'canopy_h_metrics_abs_3', 'canopy_h_metrics_abs_4', 'canopy_h_metrics_abs_5', 'canopy_h_metrics_abs_6', 'canopy_h_metrics_abs_7', 'canopy_h_metrics_abs_8', 'canopy_h_metrics_abs_9', 'canopy_h_metrics_abs_10', 'canopy_h_metrics_abs_11', 'canopy_h_metrics_abs_12', 'canopy_h_metrics_abs_13', 'canopy_h_metrics_abs_14', 'canopy_h_metrics_abs_15', 'canopy_h_metrics_abs_16', 'canopy_h_metrics_abs_17', 'canopy_openness', 'canopy_rh_conf', 'centroid_height', 'h_canopy', 'h_canopy_20m_0', 'h_canopy_20m_1', 'h_canopy_20m_2', 'h_canopy_20m_3', 'h_canopy_20m_4', 'h_canopy_abs', 'h_canopy_quad', 'h_canopy_uncertainty', 'h_dif_canopy', 'h_max_canopy', 'h_max_canopy_abs', 'h_mean_canopy', 'h_mean_canopy_abs', 'h_median_canopy', 'h_median_canopy_abs', 'h_min_canopy', 'h_min_canopy_abs', 'n_ca_photons', 'n_toc_photons', 'photon_rate_can', 'photon_rate_can_nr', 'segment_cover', 'subset_can_flag_0', 'subset_can_flag_1', 'subset_can_flag_2', 'subset_can_flag_3', 'subset_can_flag_4', 'toc_roughness', 'cloud_flag_atm', 'cloud_fold_flag', 'delta_time', 'delta_time_beg', 'delta_time_end', 'dem_flag', 'dem_h', 'dem_removal_flag', 'h_dif_ref', 'last_seg_extend', 'latitude', 'latitude_20m_0', 'latitude_20m_1', 'latitude_20m_2', 'latitude_20m_3', 'latitude_20m_4', 'layer_flag', 'longitude', 'longitude_20m_0', 'longitude_20m_1', 'longitude_20m_2', 'longitude_20m_3', 'longitude_20m_4', 'msw_flag', 'n_seg_ph', 'night_flag', 'ph_ndx_beg', 'ph_removal_flag', 'psf_flag', 'rgt', 'sat_flag', 'segment_id_beg', 'segment_id_end', 'segment_landcover', 'segment_snowcover', 'segment_watermask', 'sigma_across', 'sigma_along', 'sigma_atlas_land', 'sigma_h', 'sigma_topo', 'snr', 'solar_azimuth', 'solar_elevation', 'surf_type_0', 'surf_type_1', 'surf_type_2', 'surf_type_3', 'surf_type_4', 'h_te_best_fit', 'h_te_best_fit_20m_0', 'h_te_best_fit_20m_1', 'h_te_best_fit_20m_2', 'h_te_best_fit_20m_3', 'h_te_best_fit_20m_4', 'h_te_interp', 'h_te_max', 'h_te_mean', 'h_te_median', 'h_te_min', 'h_te_mode', 'h_te_rh25', 'h_te_skew', 'h_te_std', 'h_te_uncertainty', 'n_te_photons', 'photon_rate_te', 'subset_te_flag_0', 'subset_te_flag_1', 'subset_te_flag_2', 'subset_te_flag_3', 'subset_te_flag_4', 'terrain_slope', 'terrain_flg', 'urban_flag', 'time', 'easting', 'northing', 'crosstrack', 'alongtrack']\n",
      "['asr', 'atlas_pa', 'beam_azimuth', 'beam_coelev', 'brightness_flag', 'can_noise', 'canopy_h_metrics_0', 'canopy_h_metrics_1', 'canopy_h_metrics_2', 'canopy_h_metrics_3', 'canopy_h_metrics_4', 'canopy_h_metrics_5', 'canopy_h_metrics_6', 'canopy_h_metrics_7', 'canopy_h_metrics_8', 'canopy_h_metrics_9', 'canopy_h_metrics_10', 'canopy_h_metrics_11', 'canopy_h_metrics_12', 'canopy_h_metrics_13', 'canopy_h_metrics_14', 'canopy_h_metrics_15', 'canopy_h_metrics_16', 'canopy_h_metrics_17', 'canopy_h_metrics_abs_0', 'canopy_h_metrics_abs_1', 'canopy_h_metrics_abs_2', 'canopy_h_metrics_abs_3', 'canopy_h_metrics_abs_4', 'canopy_h_metrics_abs_5', 'canopy_h_metrics_abs_6', 'canopy_h_metrics_abs_7', 'canopy_h_metrics_abs_8', 'canopy_h_metrics_abs_9', 'canopy_h_metrics_abs_10', 'canopy_h_metrics_abs_11', 'canopy_h_metrics_abs_12', 'canopy_h_metrics_abs_13', 'canopy_h_metrics_abs_14', 'canopy_h_metrics_abs_15', 'canopy_h_metrics_abs_16', 'canopy_h_metrics_abs_17', 'canopy_openness', 'canopy_rh_conf', 'centroid_height', 'h_canopy', 'h_canopy_20m_0', 'h_canopy_20m_1', 'h_canopy_20m_2', 'h_canopy_20m_3', 'h_canopy_20m_4', 'h_canopy_abs', 'h_canopy_quad', 'h_canopy_uncertainty', 'h_dif_canopy', 'h_max_canopy', 'h_max_canopy_abs', 'h_mean_canopy', 'h_mean_canopy_abs', 'h_median_canopy', 'h_median_canopy_abs', 'h_min_canopy', 'h_min_canopy_abs', 'n_ca_photons', 'n_toc_photons', 'photon_rate_can', 'photon_rate_can_nr', 'segment_cover', 'subset_can_flag_0', 'subset_can_flag_1', 'subset_can_flag_2', 'subset_can_flag_3', 'subset_can_flag_4', 'toc_roughness', 'cloud_flag_atm', 'cloud_fold_flag', 'delta_time', 'delta_time_beg', 'delta_time_end', 'dem_flag', 'dem_h', 'dem_removal_flag', 'h_dif_ref', 'last_seg_extend', 'latitude', 'latitude_20m_0', 'latitude_20m_1', 'latitude_20m_2', 'latitude_20m_3', 'latitude_20m_4', 'layer_flag', 'longitude', 'longitude_20m_0', 'longitude_20m_1', 'longitude_20m_2', 'longitude_20m_3', 'longitude_20m_4', 'msw_flag', 'n_seg_ph', 'night_flag', 'ph_ndx_beg', 'ph_removal_flag', 'psf_flag', 'rgt', 'sat_flag', 'segment_id_beg', 'segment_id_end', 'segment_landcover', 'segment_snowcover', 'segment_watermask', 'sigma_across', 'sigma_along', 'sigma_atlas_land', 'sigma_h', 'sigma_topo', 'snr', 'solar_azimuth', 'solar_elevation', 'surf_type_0', 'surf_type_1', 'surf_type_2', 'surf_type_3', 'surf_type_4', 'h_te_best_fit', 'h_te_best_fit_20m_0', 'h_te_best_fit_20m_1', 'h_te_best_fit_20m_2', 'h_te_best_fit_20m_3', 'h_te_best_fit_20m_4', 'h_te_interp', 'h_te_max', 'h_te_mean', 'h_te_median', 'h_te_min', 'h_te_mode', 'h_te_rh25', 'h_te_skew', 'h_te_std', 'h_te_uncertainty', 'n_te_photons', 'photon_rate_te', 'subset_te_flag_0', 'subset_te_flag_1', 'subset_te_flag_2', 'subset_te_flag_3', 'subset_te_flag_4', 'terrain_slope', 'terrain_flg', 'urban_flag', 'time', 'easting', 'northing', 'crosstrack', 'alongtrack']\n"
     ]
    }
   ],
   "source": [
    "from scripts.parallel_blocks import *\n",
    "\n",
    "# dirpath = 'R:/data/sodankyla_full/'\n",
    "dirpath = '../data_store/data/delta_junction/'\n",
    "\n",
    "# data = []\n",
    "\n",
    "all_ATL03, all_ATL08, failed_ATL03 = track_pairs(dirpath, failed=True)\n",
    "N = len(all_ATL03)\n",
    "\n",
    "coords = (-145.7514, 63.8811)\n",
    "\n",
    "# all_ATL03\n",
    "\n",
    "# problematic: 0, 25, 48, \n",
    "\n",
    "for i in range(1,2):\n",
    "    data = pvpg_parallel(dirpath, all_ATL03[i], all_ATL08[i], coords=coords, width=5,height=5,file_index=i, alt_thresh=80,\\\n",
    "                         altitude=504, threshold=1)\n",
    "    # print(data)"
   ]
  },
  {
   "cell_type": "code",
   "execution_count": 2,
   "id": "f266ea9a-66d3-456f-8468-0715d1714b8a",
   "metadata": {},
   "outputs": [
    {
     "data": {
      "text/plain": [
       "camera                                              delta_junction\n",
       "date                                                    06/05/2019\n",
       "longitude                                              -145.679776\n",
       "latitude                                                 63.921641\n",
       "meanEgstrong     [0.59090906, 0.5735294, 0.78294575, 1.1857142,...\n",
       "meanEgweak       [0.15555556, 0.21212122, 0.19402985, 0.1617647...\n",
       "meanEvstrong     [0.33333334, 0.45588234, 0.15503876, 0.2, 0.16...\n",
       "meanEvweak       [0.21481481, 0.11363637, 0.1716418, 0.14705883...\n",
       "msw_strong                                [1, 1, 1, 1, 1, 1, 1, 1]\n",
       "msw_weak                               [1, 1, 1, 1, 1, 1, 1, 1, 1]\n",
       "night_strong                              [0, 0, 0, 0, 0, 0, 0, 0]\n",
       "night_weak                             [0, 0, 0, 0, 0, 0, 0, 0, 0]\n",
       "asr_strong       [0.061583754, 0.08398165, 0.08398165, 0.083981...\n",
       "asr_weak         [0.033124004, 0.033124004, 0.06496507, 0.06496...\n",
       "data_quantity                                                 17.0\n",
       "Name: 15, dtype: object"
      ]
     },
     "execution_count": 2,
     "metadata": {},
     "output_type": "execute_result"
    }
   ],
   "source": [
    "data.iloc[15]"
   ]
  },
  {
   "cell_type": "markdown",
   "id": "4571fe59-089c-4c06-80df-bcff31829a81",
   "metadata": {},
   "source": [
    "# Marcell MN"
   ]
  },
  {
   "cell_type": "code",
   "execution_count": 2,
   "id": "6489d063-f564-4ed7-8fb6-c6aa151174dd",
   "metadata": {},
   "outputs": [
    {
     "data": {
      "text/plain": [
       "['../data_store/data/marcell_MN/processed_ATL03_20181104085355_05610106_006_02.h5',\n",
       " '../data_store/data/marcell_MN/processed_ATL03_20190326134636_13460202_006_02.h5',\n",
       " '../data_store/data/marcell_MN/processed_ATL03_20190924050607_13460402_006_02.h5',\n",
       " '../data_store/data/marcell_MN/processed_ATL03_20191224004554_13460502_006_01.h5',\n",
       " '../data_store/data/marcell_MN/processed_ATL03_20200201111246_05610606_006_01.h5',\n",
       " '../data_store/data/marcell_MN/processed_ATL03_20200502065232_05610706_006_01.h5',\n",
       " '../data_store/data/marcell_MN/processed_ATL03_20200622160526_13460702_006_01.h5',\n",
       " '../data_store/data/marcell_MN/processed_ATL03_20200801023220_05610806_006_01.h5',\n",
       " '../data_store/data/marcell_MN/processed_ATL03_20200921114515_13460802_006_02.h5',\n",
       " '../data_store/data/marcell_MN/processed_ATL03_20201030221209_05610906_006_01.h5',\n",
       " '../data_store/data/marcell_MN/processed_ATL03_20210129175203_05611006_006_01.h5',\n",
       " '../data_store/data/marcell_MN/processed_ATL03_20210221042856_09041002_006_01.h5',\n",
       " '../data_store/data/marcell_MN/processed_ATL03_20210430133152_05611106_006_02.h5',\n",
       " '../data_store/data/marcell_MN/processed_ATL03_20210730091146_05611206_006_01.h5',\n",
       " '../data_store/data/marcell_MN/processed_ATL03_20210919182445_13461202_006_02.h5',\n",
       " '../data_store/data/marcell_MN/processed_ATL03_20211120152840_09041302_006_01.h5',\n",
       " '../data_store/data/marcell_MN/processed_ATL03_20220320094433_13461402_006_01.h5',\n",
       " '../data_store/data/marcell_MN/processed_ATL03_20220619052426_13461502_006_01.h5',\n",
       " '../data_store/data/marcell_MN/processed_ATL03_20220728155124_05611606_006_02.h5',\n",
       " '../data_store/data/marcell_MN/processed_ATL03_20220918010421_13461602_006_01.h5',\n",
       " '../data_store/data/marcell_MN/processed_ATL03_20221027113110_05611706_006_01.h5',\n",
       " '../data_store/data/marcell_MN/processed_ATL03_20230126071107_05611806_006_02.h5',\n",
       " '../data_store/data/marcell_MN/processed_ATL03_20230318162359_13461802_006_02.h5',\n",
       " '../data_store/data/marcell_MN/processed_ATL03_20230617120315_13461902_006_02.h5',\n",
       " '../data_store/data/marcell_MN/processed_ATL03_20230726222952_05612006_006_02.h5',\n",
       " '../data_store/data/marcell_MN/processed_ATL03_20240424092826_05612306_006_01.h5',\n",
       " '../data_store/data/marcell_MN/processed_ATL03_20240724050807_05612406_006_01.h5']"
      ]
     },
     "execution_count": 2,
     "metadata": {},
     "output_type": "execute_result"
    }
   ],
   "source": [
    "from scripts.parallel_phoreal import *\n",
    "\n",
    "# dirpath = 'R:/data/sodankyla_full/'\n",
    "dirpath = '../data_store/data/marcell_MN/'\n",
    "\n",
    "# data = []\n",
    "\n",
    "all_ATL03, all_ATL08, failed_ATL03 = track_pairs(dirpath, failed=True)\n",
    "N = len(all_ATL03)\n",
    "\n",
    "coords = (-93.4541, 47.5049)\n",
    "\n",
    "all_ATL03\n",
    "\n",
    "# for i in range(N):\n",
    "#     data = pvpg_parallel(all_ATL03[i], all_ATL08[i], coords=coords, width=.1,height=.1,\\\n",
    "#                          graph_detail=1, loss='arctan',file_index=i, keep_flagged=1, opsys='bad',f_scale=.1, altitude=413)\n",
    "    # data = pvpg_parallel(all_ATL03[i], all_ATL08[i], coords=coords, width=.1,height=.1,\\\n",
    "    #                      graph_detail=1, loss='linear',file_index=i, keep_flagged=1, opsys='bad',f_scale=.1, altitude=413)\n",
    "#     print(data)"
   ]
  },
  {
   "cell_type": "markdown",
   "id": "d2e323a3-2981-4f38-b91e-294f825a766a",
   "metadata": {},
   "source": [
    "# Lacclair"
   ]
  },
  {
   "cell_type": "code",
   "execution_count": 5,
   "id": "f3e7f775-94ac-46ac-b39a-e001d3ced839",
   "metadata": {},
   "outputs": [
    {
     "data": {
      "text/plain": [
       "['../data_store/data/lacclair/processed_ATL03_20190506102318_05830302_006_02.h5',\n",
       " '../data_store/data/lacclair/processed_ATL03_20190713192557_02400406_006_02.h5',\n",
       " '../data_store/data/lacclair/processed_ATL03_20190811180209_06820406_006_02.h5',\n",
       " '../data_store/data/lacclair/processed_ATL03_20190903043904_10250402_006_02.h5',\n",
       " '../data_store/data/lacclair/processed_ATL03_20191203001854_10250502_006_01.h5',\n",
       " '../data_store/data/lacclair/processed_ATL03_20200202212238_05830602_006_01.h5',\n",
       " '../data_store/data/lacclair/processed_ATL03_20200411062533_02400706_006_02.h5',\n",
       " '../data_store/data/lacclair/processed_ATL03_20200601153829_10250702_006_01.h5',\n",
       " '../data_store/data/lacclair/processed_ATL03_20200711020519_02400806_006_01.h5',\n",
       " '../data_store/data/lacclair/processed_ATL03_20200802124213_05830802_006_01.h5',\n",
       " '../data_store/data/lacclair/processed_ATL03_20210131040156_05831002_006_01.h5',\n",
       " '../data_store/data/lacclair/processed_ATL03_20210206160107_06821006_006_01.h5',\n",
       " '../data_store/data/lacclair/processed_ATL03_20210409130453_02401106_006_02.h5',\n",
       " '../data_store/data/lacclair/processed_ATL03_20210731192138_05831202_006_01.h5',\n",
       " '../data_store/data/lacclair/processed_ATL03_20220529045726_10251502_006_01.h5',\n",
       " '../data_store/data/lacclair/processed_ATL03_20220707152425_02401606_006_02.h5',\n",
       " '../data_store/data/lacclair/processed_ATL03_20220828003726_10251602_006_01.h5',\n",
       " '../data_store/data/lacclair/processed_ATL03_20221006110407_02401706_006_01.h5',\n",
       " '../data_store/data/lacclair/processed_ATL03_20221028214101_05831702_006_01.h5',\n",
       " '../data_store/data/lacclair/processed_ATL03_20230127172052_05831802_006_02.h5',\n",
       " '../data_store/data/lacclair/processed_ATL03_20230705220302_02402006_006_02.h5',\n",
       " '../data_store/data/lacclair/processed_ATL03_20231004174232_02402106_006_02.h5',\n",
       " '../data_store/data/lacclair/processed_ATL03_20240403090132_02402306_006_01.h5',\n",
       " '../data_store/data/lacclair/processed_ATL03_20240703044119_02402406_006_01.h5']"
      ]
     },
     "execution_count": 5,
     "metadata": {},
     "output_type": "execute_result"
    }
   ],
   "source": [
    "from scripts.parallel_phoreal import *\n",
    "\n",
    "# dirpath = 'R:/data/sodankyla_full/'\n",
    "dirpath = '../data_store/data/lacclair/'\n",
    "\n",
    "# data = []\n",
    "\n",
    "all_ATL03, all_ATL08, failed_ATL03 = track_pairs(dirpath, failed=True)\n",
    "N = len(all_ATL03)\n",
    "\n",
    "coords = (-71.6696, 46.9521)\n",
    "\n",
    "all_ATL03\n",
    "\n",
    "# for i in range(N):\n",
    "#     data = pvpg_parallel(all_ATL03[i], all_ATL08[i], coords=coords, width=.1,height=.1,\\\n",
    "#                          graph_detail=1, loss='arctan',file_index=i, keep_flagged=1, opsys='bad',f_scale=.1, altitude = 313)\n",
    "    # data = pvpg_parallel(all_ATL03[i], all_ATL08[i], coords=coords, width=.1,height=.1,\\\n",
    "    #                      graph_detail=1, loss='linear',file_index=i, keep_flagged=1, opsys='bad',f_scale=.05, altitude = 313)\n",
    "    # data = pvpg_parallel(all_ATL03[i], all_ATL08[i], coords=coords, width=.1,height=.1,\\\n",
    "    #                      graph_detail=1, loss='arctan',file_index=i, keep_flagged=1, opsys='bad',f_scale=.01, altitude = 313)\n",
    "#     print(data)"
   ]
  },
  {
   "cell_type": "markdown",
   "id": "8068f02f-b28c-4fcd-a4eb-e7f72d6befd2",
   "metadata": {},
   "source": [
    "# Torgnon"
   ]
  },
  {
   "cell_type": "code",
   "execution_count": 6,
   "id": "46f51545-a76a-4785-9781-8581fd37e304",
   "metadata": {},
   "outputs": [
    {
     "data": {
      "text/plain": [
       "['../data_store/data/torgnon/processed_ATL03_20181130005516_09530106_006_02.h5',\n",
       " '../data_store/data/torgnon/processed_ATL03_20190222083607_08540202_006_02.h5',\n",
       " '../data_store/data/torgnon/processed_ATL03_20190228203518_09530206_006_02.h5',\n",
       " '../data_store/data/torgnon/processed_ATL03_20190524041544_08540302_006_02.h5',\n",
       " '../data_store/data/torgnon/processed_ATL03_20190530161453_09530306_006_02.h5',\n",
       " '../data_store/data/torgnon/processed_ATL03_20190927103049_00080506_006_02.h5',\n",
       " '../data_store/data/torgnon/processed_ATL03_20200220151508_08540602_006_01.h5',\n",
       " '../data_store/data/torgnon/processed_ATL03_20200227031417_09530606_006_01.h5',\n",
       " '../data_store/data/torgnon/processed_ATL03_20200521105458_08540702_006_01.h5',\n",
       " '../data_store/data/torgnon/processed_ATL03_20200820063443_08540802_006_01.h5',\n",
       " '../data_store/data/torgnon/processed_ATL03_20200826183353_09530806_006_01.h5',\n",
       " '../data_store/data/torgnon/processed_ATL03_20201119021432_08540902_006_01.h5',\n",
       " '../data_store/data/torgnon/processed_ATL03_20201125141344_09530906_006_01.h5',\n",
       " '../data_store/data/torgnon/processed_ATL03_20210217215426_08541002_006_01.h5',\n",
       " '../data_store/data/torgnon/processed_ATL03_20210526053327_09531106_006_01.h5',\n",
       " '../data_store/data/torgnon/processed_ATL03_20210818131411_08541202_006_01.h5',\n",
       " '../data_store/data/torgnon/processed_ATL03_20210825011322_09531206_006_01.h5',\n",
       " '../data_store/data/torgnon/processed_ATL03_20220216043357_08541402_006_01.h5',\n",
       " '../data_store/data/torgnon/processed_ATL03_20220222163310_09531406_006_01.h5',\n",
       " '../data_store/data/torgnon/processed_ATL03_20220524121258_09531506_006_01.h5',\n",
       " '../data_store/data/torgnon/processed_ATL03_20220816195349_08541602_006_01.h5',\n",
       " '../data_store/data/torgnon/processed_ATL03_20220823075302_09531606_006_01.h5',\n",
       " '../data_store/data/torgnon/processed_ATL03_20230214111321_08541802_006_02.h5',\n",
       " '../data_store/data/torgnon/processed_ATL03_20230220231229_09531806_006_02.h5',\n",
       " '../data_store/data/torgnon/processed_ATL03_20230516065258_08541902_006_02.h5',\n",
       " '../data_store/data/torgnon/processed_ATL03_20230522185209_09531906_006_02.h5',\n",
       " '../data_store/data/torgnon/processed_ATL03_20230815023212_08542002_006_02.h5',\n",
       " '../data_store/data/torgnon/processed_ATL03_20230821143116_09532006_006_02.h5',\n",
       " '../data_store/data/torgnon/processed_ATL03_20231113221151_08542102_006_02.h5',\n",
       " '../data_store/data/torgnon/processed_ATL03_20231120101107_09532106_006_02.h5',\n",
       " '../data_store/data/torgnon/processed_ATL03_20240212175116_08542202_006_01.h5',\n",
       " '../data_store/data/torgnon/processed_ATL03_20240219055026_09532206_006_01.h5']"
      ]
     },
     "execution_count": 6,
     "metadata": {},
     "output_type": "execute_result"
    }
   ],
   "source": [
    "from scripts.parallel_phoreal import *\n",
    "\n",
    "# dirpath = 'R:/data/sodankyla_full/'\n",
    "dirpath = '../data_store/data/torgnon/'\n",
    "\n",
    "# data = []\n",
    "\n",
    "all_ATL03, all_ATL08, failed_ATL03 = track_pairs(dirpath, failed=True)\n",
    "N = len(all_ATL03)\n",
    "\n",
    "coords = (7.5609, 45.8238)\n",
    "\n",
    "all_ATL03\n",
    "\n",
    "# for i in range(N):\n",
    "    # data = pvpg_parallel(all_ATL03[i], all_ATL08[i], coords=coords, width=.1,height=.1,\\\n",
    "    #                      graph_detail=1, loss='arctan',file_index=i, keep_flagged=1, opsys='bad',f_scale=.1, altitude = 2091)\n",
    "    # data = pvpg_parallel(all_ATL03[i], all_ATL08[i], coords=coords, width=.1,height=.1,\\\n",
    "    #                      graph_detail=1, loss='linear',file_index=i, keep_flagged=1, opsys='bad',f_scale=.05, altitude = 2091)\n",
    "#     print(data)"
   ]
  },
  {
   "cell_type": "markdown",
   "id": "f9967a76-8b11-42b1-a387-c8d8d07ccad1",
   "metadata": {},
   "source": [
    "# Oregon Young Pine"
   ]
  },
  {
   "cell_type": "code",
   "execution_count": 8,
   "id": "9909c6ed-95da-4260-973c-df6f3661f7ae",
   "metadata": {},
   "outputs": [
    {
     "data": {
      "text/plain": [
       "['../data_store/data/oregon_yp/processed_ATL03_20190125065018_04250206_006_02.h5',\n",
       " '../data_store/data/oregon_yp/processed_ATL03_20190620113430_12710302_006_02.h5',\n",
       " '../data_store/data/oregon_yp/processed_ATL03_20190725220939_04250406_006_02.h5',\n",
       " '../data_store/data/oregon_yp/processed_ATL03_20190823204548_08670406_006_02.h5',\n",
       " '../data_store/data/oregon_yp/processed_ATL03_20190919071421_12710402_006_02.h5',\n",
       " '../data_store/data/oregon_yp/processed_ATL03_20191024174938_04250506_006_02.h5',\n",
       " '../data_store/data/oregon_yp/processed_ATL03_20200123132922_04250606_006_01.h5',\n",
       " '../data_store/data/oregon_yp/processed_ATL03_20200218235753_08290602_006_01.h5',\n",
       " '../data_store/data/oregon_yp/processed_ATL03_20200423090912_04250706_006_02.h5',\n",
       " '../data_store/data/oregon_yp/processed_ATL03_20200617181343_12710702_006_01.h5',\n",
       " '../data_store/data/oregon_yp/processed_ATL03_20200723044857_04250806_006_01.h5',\n",
       " '../data_store/data/oregon_yp/processed_ATL03_20201022002843_04250906_006_01.h5',\n",
       " '../data_store/data/oregon_yp/processed_ATL03_20210216063711_08291002_006_01.h5',\n",
       " '../data_store/data/oregon_yp/processed_ATL03_20210421154829_04251106_006_02.h5',\n",
       " '../data_store/data/oregon_yp/processed_ATL03_20210616005305_12711102_006_01.h5',\n",
       " '../data_store/data/oregon_yp/processed_ATL03_20210721112820_04251206_006_01.h5',\n",
       " '../data_store/data/oregon_yp/processed_ATL03_20210914203301_12711202_006_02.h5',\n",
       " '../data_store/data/oregon_yp/processed_ATL03_20211115173655_08291302_006_01.h5',\n",
       " '../data_store/data/oregon_yp/processed_ATL03_20220119024812_04251406_006_01.h5',\n",
       " '../data_store/data/oregon_yp/processed_ATL03_20220419222759_04251506_006_02.h5',\n",
       " '../data_store/data/oregon_yp/processed_ATL03_20220614073240_12711502_006_01.h5',\n",
       " '../data_store/data/oregon_yp/processed_ATL03_20220719180800_04251606_006_02.h5',\n",
       " '../data_store/data/oregon_yp/processed_ATL03_20220913031238_12711602_006_01.h5',\n",
       " '../data_store/data/oregon_yp/processed_ATL03_20230117092727_04251806_006_02.h5',\n",
       " '../data_store/data/oregon_yp/processed_ATL03_20230418050714_04251906_006_02.h5',\n",
       " '../data_store/data/oregon_yp/processed_ATL03_20230612141131_12711902_006_02.h5',\n",
       " '../data_store/data/oregon_yp/processed_ATL03_20230718004632_04252006_006_02.h5',\n",
       " '../data_store/data/oregon_yp/processed_ATL03_20240311010958_12712202_006_01.h5',\n",
       " '../data_store/data/oregon_yp/processed_ATL03_20240415114504_04252306_006_01.h5',\n",
       " '../data_store/data/oregon_yp/processed_ATL03_20240715072439_04252406_006_01.h5']"
      ]
     },
     "execution_count": 8,
     "metadata": {},
     "output_type": "execute_result"
    }
   ],
   "source": [
    "from scripts.parallel_phoreal import *\n",
    "\n",
    "# dirpath = 'R:/data/sodankyla_full/'\n",
    "dirpath = '../data_store/data/oregon_yp/'\n",
    "\n",
    "# data = []\n",
    "\n",
    "all_ATL03, all_ATL08, failed_ATL03 = track_pairs(dirpath, failed=True)\n",
    "N = len(all_ATL03)\n",
    "\n",
    "coords = (-121.606, 44.3238)\n",
    "\n",
    "all_ATL03\n",
    "\n",
    "# for i in range(N):\n",
    "    # data = pvpg_parallel(all_ATL03[i], all_ATL08[i], coords=coords, width=.1,height=.1,\\\n",
    "    #                      graph_detail=1, loss='arctan',file_index=i, keep_flagged=1, opsys='bad',f_scale=.1, altitude = 977)\n",
    "    # data = pvpg_parallel(all_ATL03[i], all_ATL08[i], coords=coords, width=.1,height=.1,\\\n",
    "    #                      graph_detail=1, loss='linear',file_index=i, keep_flagged=1, opsys='bad',f_scale=.05, altitude = 977)\n",
    "#     print(data)"
   ]
  }
 ],
 "metadata": {
  "kernelspec": {
   "display_name": "Python 3 (ipykernel)",
   "language": "python",
   "name": "python3"
  },
  "language_info": {
   "codemirror_mode": {
    "name": "ipython",
    "version": 3
   },
   "file_extension": ".py",
   "mimetype": "text/x-python",
   "name": "python",
   "nbconvert_exporter": "python",
   "pygments_lexer": "ipython3",
   "version": "3.11.8"
  }
 },
 "nbformat": 4,
 "nbformat_minor": 5
}
