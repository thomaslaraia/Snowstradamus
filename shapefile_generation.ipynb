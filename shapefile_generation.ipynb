{
 "cells": [
  {
   "cell_type": "code",
   "execution_count": 6,
   "id": "305755e7",
   "metadata": {},
   "outputs": [
    {
     "name": "stdout",
     "output_type": "stream",
     "text": [
      "Shapefile and associated files zipped at: sodankyla_shapefile/sodankyla_buffer.zip\n"
     ]
    }
   ],
   "source": [
    "import geopandas as gpd\n",
    "from shapely.geometry import Point\n",
    "from pyproj import CRS\n",
    "import os\n",
    "import zipfile\n",
    "\n",
    "# Sodankyla coordinates (latitude, longitude)\n",
    "sodankyla_coords = (67.3616, 26.6342)\n",
    "\n",
    "# Create a GeoDataFrame with a single point representing Sodankyla\n",
    "sodankyla_point = gpd.GeoDataFrame(geometry=[Point(sodankyla_coords)], crs=\"EPSG:4326\")  # WGS 84\n",
    "\n",
    "# Reproject to a projected CRS (UTM zone for example)\n",
    "projected_crs = \"EPSG:32635\"  # UTM zone 35N, you may need to choose the appropriate UTM zone for your area\n",
    "sodankyla_point = sodankyla_point.to_crs(projected_crs)\n",
    "\n",
    "# Create a buffer around Sodankyla\n",
    "buffer_radius_km = 5\n",
    "buffer_gdf = sodankyla_point.copy()\n",
    "buffer_gdf['geometry'] = buffer_gdf.buffer(buffer_radius_km * 1000)  # Buffer in meters\n",
    "\n",
    "# Reproject back to geographic CRS for saving to shapefile\n",
    "buffer_gdf = buffer_gdf.to_crs(\"EPSG:4326\")\n",
    "\n",
    "# Specify the folder name\n",
    "output_folder = 'sodankyla_shapefile'\n",
    "\n",
    "# Create the output folder if it doesn't exist\n",
    "os.makedirs(output_folder, exist_ok=True)\n",
    "\n",
    "# Save the GeoDataFrame to a shapefile in the specified folder\n",
    "shapefile_path = os.path.join(output_folder, \"sodankyla_buffer.shp\")\n",
    "buffer_gdf.to_file(shapefile_path)\n",
    "\n",
    "# Zip the shapefile files\n",
    "zipfile_path = os.path.join(output_folder, \"sodankyla_buffer.zip\")\n",
    "with zipfile.ZipFile(zipfile_path, 'w') as zipf:\n",
    "    for root, _, files in os.walk(shapefile_path):\n",
    "        for file in files:\n",
    "            file_path = os.path.join(root, file)\n",
    "            arcname = os.path.relpath(file_path, shapefile_path)\n",
    "            zipf.write(file_path, arcname=arcname)\n",
    "\n",
    "print(f\"Shapefile and associated files zipped at: {zipfile_path}\")\n"
   ]
  },
  {
   "cell_type": "code",
   "execution_count": 23,
   "id": "2044de69",
   "metadata": {},
   "outputs": [
    {
     "name": "stdout",
     "output_type": "stream",
     "text": [
      "Original CRS: EPSG:4326\n",
      "Buffered CRS: EPSG:4326\n",
      "Shapefile 'shapefiles/sodankyla_5.shp' and KML file 'shapefiles/sodankyla_5.kml' created.\n"
     ]
    }
   ],
   "source": [
    "import geopandas as gpd\n",
    "from shapely.geometry import Point\n",
    "import simplekml\n",
    "import os\n",
    "\n",
    "# Create a folder named 'shapefiles'\n",
    "output_folder = 'shapefiles'\n",
    "os.makedirs(output_folder, exist_ok=True)\n",
    "\n",
    "# Sodankylä coordinates\n",
    "sodankyla_coords = (26.5900, 67.3662)  # Correct order: (longitude, latitude)\n",
    "\n",
    "# Create a GeoDataFrame with a point for Sodankylä and set the CRS explicitly\n",
    "sodankyla_point = gpd.GeoDataFrame(geometry=[Point(sodankyla_coords)], crs=\"EPSG:4326\")\n",
    "\n",
    "# Reproject to a projected CRS (e.g., UTM)\n",
    "sodankyla_point_utm = sodankyla_point.to_crs(epsg=32633)  # You may need to choose an appropriate EPSG code\n",
    "\n",
    "# Create a buffer of 5km around Sodankylä\n",
    "buffer_radius = 5000  # in meters\n",
    "sodankyla_buffer_utm = sodankyla_point_utm.buffer(buffer_radius)\n",
    "\n",
    "# Reproject back to the original CRS\n",
    "sodankyla_buffer = sodankyla_buffer_utm.to_crs(epsg=4326)\n",
    "\n",
    "# Print CRS information for verification\n",
    "print(\"Original CRS:\", sodankyla_point.crs)\n",
    "print(\"Buffered CRS:\", sodankyla_buffer.crs)\n",
    "\n",
    "# Save the buffered geometry as a shapefile\n",
    "shapefile_filename = os.path.join(output_folder, \"sodankyla_5.shp\")\n",
    "sodankyla_buffer.to_file(shapefile_filename)\n",
    "\n",
    "# Create a KML object\n",
    "kml = simplekml.Kml()\n",
    "\n",
    "# Create a polygon from the buffered geometry\n",
    "polygon_coords = [(x, y) for x, y in sodankyla_buffer.iloc[0].exterior.coords]\n",
    "polygon = kml.newpolygon(name=\"5km Radius around Sodankylä\", outerboundaryis=polygon_coords)\n",
    "\n",
    "# Save the KML file\n",
    "kml_filename = os.path.join(output_folder, \"sodankyla_5.kml\")\n",
    "kml.save(kml_filename)\n",
    "\n",
    "print(f\"Shapefile '{shapefile_filename}' and KML file '{kml_filename}' created.\")\n"
   ]
  }
 ],
 "metadata": {
  "kernelspec": {
   "display_name": "Python 3 (ipykernel)",
   "language": "python",
   "name": "python3"
  },
  "language_info": {
   "codemirror_mode": {
    "name": "ipython",
    "version": 3
   },
   "file_extension": ".py",
   "mimetype": "text/x-python",
   "name": "python",
   "nbconvert_exporter": "python",
   "pygments_lexer": "ipython3",
   "version": "3.10.12"
  }
 },
 "nbformat": 4,
 "nbformat_minor": 5
}
